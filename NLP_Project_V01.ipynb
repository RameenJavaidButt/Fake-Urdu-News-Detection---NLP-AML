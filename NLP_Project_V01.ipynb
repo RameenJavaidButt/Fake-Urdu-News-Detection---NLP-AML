{
 "cells": [
  {
   "cell_type": "code",
   "execution_count": 15,
   "metadata": {
    "colab": {
     "base_uri": "https://localhost:8080/"
    },
    "executionInfo": {
     "elapsed": 5484,
     "status": "ok",
     "timestamp": 1744982130992,
     "user": {
      "displayName": "rameen butt",
      "userId": "00965946940138084277"
     },
     "user_tz": -300
    },
    "id": "EPDEyzpvCeiW",
    "outputId": "cdd0589c-04ec-4ccc-dc84-57a86dff64a7"
   },
   "outputs": [
    {
     "name": "stdout",
     "output_type": "stream",
     "text": [
      "Defaulting to user installation because normal site-packages is not writeable\n",
      "Requirement already satisfied: numpy in c:\\users\\fast.lab12-pc11\\appdata\\roaming\\python\\python312\\site-packages (1.26.4)\n",
      "Collecting numpy\n",
      "  Using cached numpy-2.2.5-cp312-cp312-win_amd64.whl.metadata (60 kB)\n",
      "Requirement already satisfied: gensim in c:\\programdata\\anaconda3\\lib\\site-packages (4.3.3)\n",
      "Requirement already satisfied: scipy<1.14.0,>=1.7.0 in c:\\users\\fast.lab12-pc11\\appdata\\roaming\\python\\python312\\site-packages (from gensim) (1.13.1)\n",
      "Requirement already satisfied: smart-open>=1.8.1 in c:\\programdata\\anaconda3\\lib\\site-packages (from gensim) (5.2.1)\n"
     ]
    },
    {
     "name": "stderr",
     "output_type": "stream",
     "text": [
      "\n",
      "[notice] A new release of pip is available: 25.0.1 -> 25.1\n",
      "[notice] To update, run: python.exe -m pip install --upgrade pip\n"
     ]
    }
   ],
   "source": [
    "!pip install --upgrade numpy gensim\n"
   ]
  },
  {
   "cell_type": "code",
   "execution_count": 16,
   "metadata": {
    "colab": {
     "base_uri": "https://localhost:8080/"
    },
    "collapsed": true,
    "executionInfo": {
     "elapsed": 11203,
     "status": "ok",
     "timestamp": 1744981562625,
     "user": {
      "displayName": "rameen butt",
      "userId": "00965946940138084277"
     },
     "user_tz": -300
    },
    "id": "QW6EhSbkYl-T",
    "outputId": "58f744dd-89ec-4170-ab02-ffd35aea6c8a"
   },
   "outputs": [
    {
     "name": "stdout",
     "output_type": "stream",
     "text": [
      "Defaulting to user installation because normal site-packages is not writeable\n",
      "Requirement already satisfied: pandas in c:\\users\\fast.lab12-pc11\\appdata\\roaming\\python\\python312\\site-packages (2.2.3)\n",
      "Requirement already satisfied: matplotlib in c:\\users\\fast.lab12-pc11\\appdata\\roaming\\python\\python312\\site-packages (3.10.1)\n",
      "Requirement already satisfied: seaborn in c:\\users\\fast.lab12-pc11\\appdata\\roaming\\python\\python312\\site-packages (0.13.2)\n",
      "Requirement already satisfied: scikit-learn in c:\\users\\fast.lab12-pc11\\appdata\\roaming\\python\\python312\\site-packages (1.6.1)\n",
      "Requirement already satisfied: nltk in c:\\programdata\\anaconda3\\lib\\site-packages (3.9.1)\n",
      "Requirement already satisfied: numpy>=1.26.0 in c:\\users\\fast.lab12-pc11\\appdata\\roaming\\python\\python312\\site-packages (from pandas) (1.26.4)\n",
      "Requirement already satisfied: python-dateutil>=2.8.2 in c:\\users\\fast.lab12-pc11\\appdata\\roaming\\python\\python312\\site-packages (from pandas) (2.9.0.post0)\n",
      "Requirement already satisfied: pytz>=2020.1 in c:\\users\\fast.lab12-pc11\\appdata\\roaming\\python\\python312\\site-packages (from pandas) (2025.2)\n",
      "Requirement already satisfied: tzdata>=2022.7 in c:\\users\\fast.lab12-pc11\\appdata\\roaming\\python\\python312\\site-packages (from pandas) (2025.2)\n",
      "Requirement already satisfied: contourpy>=1.0.1 in c:\\users\\fast.lab12-pc11\\appdata\\roaming\\python\\python312\\site-packages (from matplotlib) (1.3.2)\n",
      "Requirement already satisfied: cycler>=0.10 in c:\\users\\fast.lab12-pc11\\appdata\\roaming\\python\\python312\\site-packages (from matplotlib) (0.12.1)\n",
      "Requirement already satisfied: fonttools>=4.22.0 in c:\\users\\fast.lab12-pc11\\appdata\\roaming\\python\\python312\\site-packages (from matplotlib) (4.57.0)\n",
      "Requirement already satisfied: kiwisolver>=1.3.1 in c:\\users\\fast.lab12-pc11\\appdata\\roaming\\python\\python312\\site-packages (from matplotlib) (1.4.8)\n",
      "Requirement already satisfied: packaging>=20.0 in c:\\users\\fast.lab12-pc11\\appdata\\roaming\\python\\python312\\site-packages (from matplotlib) (25.0)\n",
      "Requirement already satisfied: pillow>=8 in c:\\users\\fast.lab12-pc11\\appdata\\roaming\\python\\python312\\site-packages (from matplotlib) (11.2.1)\n",
      "Requirement already satisfied: pyparsing>=2.3.1 in c:\\users\\fast.lab12-pc11\\appdata\\roaming\\python\\python312\\site-packages (from matplotlib) (3.2.3)\n",
      "Requirement already satisfied: scipy>=1.6.0 in c:\\users\\fast.lab12-pc11\\appdata\\roaming\\python\\python312\\site-packages (from scikit-learn) (1.13.1)\n",
      "Requirement already satisfied: joblib>=1.2.0 in c:\\users\\fast.lab12-pc11\\appdata\\roaming\\python\\python312\\site-packages (from scikit-learn) (1.4.2)\n",
      "Requirement already satisfied: threadpoolctl>=3.1.0 in c:\\users\\fast.lab12-pc11\\appdata\\roaming\\python\\python312\\site-packages (from scikit-learn) (3.6.0)\n",
      "Requirement already satisfied: click in c:\\programdata\\anaconda3\\lib\\site-packages (from nltk) (8.1.7)\n",
      "Requirement already satisfied: regex>=2021.8.3 in c:\\users\\fast.lab12-pc11\\appdata\\roaming\\python\\python312\\site-packages (from nltk) (2024.11.6)\n",
      "Requirement already satisfied: tqdm in c:\\users\\fast.lab12-pc11\\appdata\\roaming\\python\\python312\\site-packages (from nltk) (4.67.1)\n",
      "Requirement already satisfied: six>=1.5 in c:\\users\\fast.lab12-pc11\\appdata\\roaming\\python\\python312\\site-packages (from python-dateutil>=2.8.2->pandas) (1.17.0)\n",
      "Requirement already satisfied: colorama in c:\\users\\fast.lab12-pc11\\appdata\\roaming\\python\\python312\\site-packages (from click->nltk) (0.4.6)\n"
     ]
    },
    {
     "name": "stderr",
     "output_type": "stream",
     "text": [
      "\n",
      "[notice] A new release of pip is available: 25.0.1 -> 25.1\n",
      "[notice] To update, run: python.exe -m pip install --upgrade pip\n"
     ]
    }
   ],
   "source": [
    "!pip install pandas matplotlib seaborn scikit-learn nltk"
   ]
  },
  {
   "cell_type": "code",
   "execution_count": 17,
   "metadata": {
    "id": "wOgRNJeKZLAe"
   },
   "outputs": [],
   "source": [
    "import pandas as pd\n",
    "import numpy as np\n",
    "import matplotlib.pyplot as plt\n",
    "import seaborn as sns\n",
    "import nltk\n",
    "from sklearn.model_selection import train_test_split\n",
    "from sklearn.feature_extraction.text import TfidfVectorizer\n",
    "from sklearn.naive_bayes import MultinomialNB\n",
    "from sklearn.metrics import classification_report, confusion_matrix\n",
    "import string\n",
    "import re\n",
    "from sklearn.preprocessing import LabelEncoder\n",
    "from sklearn.feature_extraction.text import TfidfVectorizer\n",
    "from imblearn.over_sampling import SMOTE\n",
    "from sklearn.ensemble import RandomForestClassifier\n",
    "from wordcloud import WordCloud\n",
    "from sklearn.linear_model import LogisticRegression\n",
    "from sklearn.metrics import classification_report, confusion_matrix, accuracy_score, f1_score\n",
    "\n",
    "\n",
    "\n"
   ]
  },
  {
   "cell_type": "markdown",
   "metadata": {
    "id": "ay2dlNzpZSAT"
   },
   "source": [
    "# **Data PreProcessing: Exploring the Data**"
   ]
  },
  {
   "cell_type": "code",
   "execution_count": 18,
   "metadata": {
    "colab": {
     "base_uri": "https://localhost:8080/"
    },
    "collapsed": true,
    "executionInfo": {
     "elapsed": 545,
     "status": "ok",
     "timestamp": 1744982139053,
     "user": {
      "displayName": "rameen butt",
      "userId": "00965946940138084277"
     },
     "user_tz": -300
    },
    "id": "IS5mrcr8Zegz",
    "outputId": "1e5c81ab-2695-436d-fb45-b7a951419f1f"
   },
   "outputs": [
    {
     "name": "stdout",
     "output_type": "stream",
     "text": [
      "  Sr. No.                                         News Items Label\n",
      "0       1  ٹی ٹی پی نے پنجاب حکومت کے ہیلی کاپٹر کے عملے ...  FAKE\n",
      "1       2          مارک زکربرگ سیاست میں آنے کا سوچ رہے ہیں۔  FAKE\n",
      "2       3     فریدہ جلال نے اپنی موت کی افواہوں پر تنقید کی۔  FAKE\n",
      "3       4  جعلی خبریں: پاپ اسٹار حدیقہ کیانی نے جعلی منشی...  FAKE\n",
      "4       5  صنم ماروی نے میڈیا پر گردش کرنے والی زیادتی او...  FAKE\n",
      "Shape of dataset: (10106, 3)\n",
      "\n",
      "Columns:\n",
      " Index(['Sr. No.', 'News Items', 'Label'], dtype='object')\n",
      "\n",
      "Missing values:\n",
      " Sr. No.       22\n",
      "News Items    22\n",
      "Label         22\n",
      "dtype: int64\n",
      "Label\n",
      "FAKE     5039\n",
      "TRUE     4997\n",
      "TRUE       33\n",
      "FAKE       14\n",
      "Label       1\n",
      "Name: count, dtype: int64\n"
     ]
    }
   ],
   "source": [
    "# Load the dataset\n",
    "df = pd.read_csv('Combined .csv')\n",
    "\n",
    "# Display the first few rows\n",
    "print(df.head())\n",
    "\n",
    "print(\"Shape of dataset:\", df.shape)\n",
    "print(\"\\nColumns:\\n\", df.columns)\n",
    "\n",
    "# Check for missing values\n",
    "print(\"\\nMissing values:\\n\", df.isnull().sum())\n",
    "# Check class distribution\n",
    "print(df['Label'].value_counts())\n"
   ]
  },
  {
   "cell_type": "code",
   "execution_count": 19,
   "metadata": {
    "colab": {
     "base_uri": "https://localhost:8080/"
    },
    "executionInfo": {
     "elapsed": 83,
     "status": "ok",
     "timestamp": 1744982141375,
     "user": {
      "displayName": "rameen butt",
      "userId": "00965946940138084277"
     },
     "user_tz": -300
    },
    "id": "l959ZWLMJaC2",
    "outputId": "aba03b22-416d-496e-99af-cfd2fcfa2cb0"
   },
   "outputs": [
    {
     "name": "stdout",
     "output_type": "stream",
     "text": [
      "Shape after dropping missing values: (10084, 3)\n"
     ]
    }
   ],
   "source": [
    "# Drop rows with missing values\n",
    "df = df.dropna()\n",
    "print(\"Shape after dropping missing values:\", df.shape)\n"
   ]
  },
  {
   "cell_type": "code",
   "execution_count": 20,
   "metadata": {
    "id": "P9NXY98aKDXX"
   },
   "outputs": [],
   "source": [
    "# Drop Sr. No. column\n",
    "if 'Sr. No.' in df.columns:\n",
    "    df.drop(columns=['Sr. No.'], inplace=True)"
   ]
  },
  {
   "cell_type": "code",
   "execution_count": 21,
   "metadata": {
    "colab": {
     "base_uri": "https://localhost:8080/"
    },
    "executionInfo": {
     "elapsed": 117,
     "status": "ok",
     "timestamp": 1744982143812,
     "user": {
      "displayName": "rameen butt",
      "userId": "00965946940138084277"
     },
     "user_tz": -300
    },
    "id": "0nVsIu8HKHTQ",
    "outputId": "deb7957e-e5ba-4d3d-d769-608568977215"
   },
   "outputs": [
    {
     "name": "stdout",
     "output_type": "stream",
     "text": [
      "Shape after cleaning: (10083, 2)\n",
      "\n",
      "Label distribution:\n",
      " Label\n",
      "FAKE    5053\n",
      "TRUE    5030\n",
      "Name: count, dtype: int64\n"
     ]
    }
   ],
   "source": [
    "# Clean Label values,Strip whitespace and remove invalid labels\n",
    "df['Label'] = df['Label'].str.strip().str.upper()\n",
    "\n",
    "\n",
    "# Keep only rows with correct labels\n",
    "df = df[df['Label'].isin(['FAKE', 'TRUE'])]\n",
    "\n",
    "# Final stats\n",
    "print(\"Shape after cleaning:\", df.shape)\n",
    "print(\"\\nLabel distribution:\\n\", df['Label'].value_counts())"
   ]
  },
  {
   "cell_type": "code",
   "execution_count": 22,
   "metadata": {
    "colab": {
     "base_uri": "https://localhost:8080/"
    },
    "executionInfo": {
     "elapsed": 15,
     "status": "ok",
     "timestamp": 1744982145039,
     "user": {
      "displayName": "rameen butt",
      "userId": "00965946940138084277"
     },
     "user_tz": -300
    },
    "id": "5rFTRSQ6KW-g",
    "outputId": "8f127c59-8709-48ef-c6a7-7269a25ca21d"
   },
   "outputs": [
    {
     "name": "stdout",
     "output_type": "stream",
     "text": [
      "News Items    COVID-19 سے صحت یاب ہونے کے بعد جشن منانے کے د...\n",
      "Label                                                      FAKE\n",
      "Name: 5052, dtype: object\n"
     ]
    }
   ],
   "source": [
    "print(df.iloc[5052])\n"
   ]
  },
  {
   "cell_type": "code",
   "execution_count": 23,
   "metadata": {
    "colab": {
     "base_uri": "https://localhost:8080/"
    },
    "collapsed": true,
    "executionInfo": {
     "elapsed": 450,
     "status": "ok",
     "timestamp": 1744982146946,
     "user": {
      "displayName": "rameen butt",
      "userId": "00965946940138084277"
     },
     "user_tz": -300
    },
    "id": "MS3mqrEZMJ71",
    "outputId": "ebc88bb7-6690-4215-bab4-e2eeba6f16a9"
   },
   "outputs": [
    {
     "name": "stdout",
     "output_type": "stream",
     "text": [
      "Full duplicate rows:\n",
      "                                               News Items Label\n",
      "1484   کیرالہ میں ایم ایل اے کی گاڑی پر پاکستان کا جھنڈا  FAKE\n",
      "1513   پاکستان کرکٹ بورڈ کے نئے چیئرمین کا انتخاب خبر...  FAKE\n",
      "1514   10 جنوری 2021 کی رات کو پورا پاکستان تاریکی می...  FAKE\n",
      "1516   پاکستانی کرکٹ ٹیم کے ہیڈ کوچ مصباح الحق کی موت...  FAKE\n",
      "1517   پاکستان میں انٹرنیشنل کرکٹ کی واپسی کے امکانات...  FAKE\n",
      "...                                                  ...   ...\n",
      "9846   اے پی کی رپورٹنگ کے مطابق، پاکستان میں مذہبی ا...  TRUE\n",
      "9847   پاکستان کے شمالی شہر سیالکوٹ میں فٹ بال کی کم ...  TRUE\n",
      "9848   بلیک کیپس اور پاکستان کے درمیان پہلے ٹیسٹ کے چ...  TRUE\n",
      "9849   حالیہ دہائیوں میں، آسیان اکنامک کمیونٹی (AEC)،...  TRUE\n",
      "10082  بھارت کے نوجوان معروف سوشل میڈیا اسٹار اور کام...  TRUE\n",
      "\n",
      "[848 rows x 2 columns]\n",
      "\n",
      "Number of full duplicate rows: 848\n",
      "\n",
      "Duplicate rows based on News Items and Label:\n",
      "                                               News Items Label\n",
      "1484   کیرالہ میں ایم ایل اے کی گاڑی پر پاکستان کا جھنڈا  FAKE\n",
      "1513   پاکستان کرکٹ بورڈ کے نئے چیئرمین کا انتخاب خبر...  FAKE\n",
      "1514   10 جنوری 2021 کی رات کو پورا پاکستان تاریکی می...  FAKE\n",
      "1516   پاکستانی کرکٹ ٹیم کے ہیڈ کوچ مصباح الحق کی موت...  FAKE\n",
      "1517   پاکستان میں انٹرنیشنل کرکٹ کی واپسی کے امکانات...  FAKE\n",
      "...                                                  ...   ...\n",
      "9846   اے پی کی رپورٹنگ کے مطابق، پاکستان میں مذہبی ا...  TRUE\n",
      "9847   پاکستان کے شمالی شہر سیالکوٹ میں فٹ بال کی کم ...  TRUE\n",
      "9848   بلیک کیپس اور پاکستان کے درمیان پہلے ٹیسٹ کے چ...  TRUE\n",
      "9849   حالیہ دہائیوں میں، آسیان اکنامک کمیونٹی (AEC)،...  TRUE\n",
      "10082  بھارت کے نوجوان معروف سوشل میڈیا اسٹار اور کام...  TRUE\n",
      "\n",
      "[848 rows x 2 columns]\n",
      "\n",
      "Number of partial duplicates (News Items + Label): 848\n",
      "Cleaned dataset shape: (9235, 2)\n"
     ]
    }
   ],
   "source": [
    "# Full row duplicates\n",
    "full_duplicates = df[df.duplicated()]\n",
    "print(\"Full duplicate rows:\\n\", full_duplicates)\n",
    "print(\"\\nNumber of full duplicate rows:\", full_duplicates.shape[0])\n",
    "# Duplicates based on News Items and Label only\n",
    "partial_duplicates = df[df.duplicated(subset=[\"News Items\", \"Label\"])]\n",
    "print(\"\\nDuplicate rows based on News Items and Label:\\n\", partial_duplicates)\n",
    "print(\"\\nNumber of partial duplicates (News Items + Label):\", partial_duplicates.shape[0])\n",
    "df_cleaned = df.drop_duplicates()\n",
    "df_cleaned = df.drop_duplicates(subset=[\"News Items\", \"Label\"])\n",
    "'''\n",
    "Since this is a text classification dataset for fake vs true news:\n",
    "\n",
    "Duplicates (especially same news with same label) might bias the model.\n",
    "\n",
    "So, it's safer to drop duplicates based on 'News Items' and 'Label' to make the dataset more diverse and less repetitive.\n",
    "\n",
    "\n",
    "'''\n",
    "\n",
    "\n",
    "df_cleaned = df.drop_duplicates(subset=[\"News Items\", \"Label\"]).reset_index(drop=True)\n",
    "print(\"Cleaned dataset shape:\", df_cleaned.shape)\n"
   ]
  },
  {
   "cell_type": "code",
   "execution_count": 24,
   "metadata": {
    "colab": {
     "base_uri": "https://localhost:8080/"
    },
    "executionInfo": {
     "elapsed": 38,
     "status": "ok",
     "timestamp": 1744981610994,
     "user": {
      "displayName": "rameen butt",
      "userId": "00965946940138084277"
     },
     "user_tz": -300
    },
    "id": "t3MJ9FfKLsb5",
    "outputId": "635a7f7b-c430-441b-d561-6ddd4ad6919e"
   },
   "outputs": [
    {
     "name": "stdout",
     "output_type": "stream",
     "text": [
      "Shape after cleaning: (9235, 2)\n",
      "Label distribution:\n",
      " Label\n",
      "FAKE    4637\n",
      "TRUE    4598\n",
      "Name: count, dtype: int64\n",
      "['FAKE' 'TRUE']\n"
     ]
    }
   ],
   "source": [
    "# Final stats\n",
    "print(\"Shape after cleaning:\", df_cleaned.shape)\n",
    "print(\"Label distribution:\\n\", df_cleaned['Label'].value_counts())\n",
    "print(df_cleaned['Label'].unique())\n"
   ]
  },
  {
   "cell_type": "markdown",
   "metadata": {
    "id": "BYZO6rN0h_5E"
   },
   "source": [
    "#Visualization"
   ]
  },
  {
   "cell_type": "code",
   "execution_count": 25,
   "metadata": {
    "colab": {
     "base_uri": "https://localhost:8080/",
     "height": 472
    },
    "executionInfo": {
     "elapsed": 399,
     "status": "ok",
     "timestamp": 1744981613342,
     "user": {
      "displayName": "rameen butt",
      "userId": "00965946940138084277"
     },
     "user_tz": -300
    },
    "id": "5u7tO9zRZlvg",
    "outputId": "4304d769-9a13-4f27-81cd-677c568e87d9"
   },
   "outputs": [
    {
     "data": {
      "image/png": "[encoded data removed]",
      "text/plain": [
       "<Figure size 640x480 with 1 Axes>"
      ]
     },
     "metadata": {},
     "output_type": "display_data"
    }
   ],
   "source": [
    "# Plot class distribution\n",
    "sns.countplot(x='Label', data=df_cleaned)\n",
    "plt.title('Distribution of Real and Fake News')\n",
    "plt.show()\n"
   ]
  },
  {
   "cell_type": "code",
   "execution_count": 26,
   "metadata": {
    "colab": {
     "base_uri": "https://localhost:8080/",
     "height": 564
    },
    "executionInfo": {
     "elapsed": 772,
     "status": "ok",
     "timestamp": 1744981615780,
     "user": {
      "displayName": "rameen butt",
      "userId": "00965946940138084277"
     },
     "user_tz": -300
    },
    "id": "ctaPKDAkZrVM",
    "outputId": "b54a6404-b2a3-414c-bec6-08646d0e9bdc"
   },
   "outputs": [
    {
     "data": {
      "image/png": "[encoded data removed]",
      "text/plain": [
       "<Figure size 1000x600 with 1 Axes>"
      ]
     },
     "metadata": {},
     "output_type": "display_data"
    }
   ],
   "source": [
    "'''\n",
    "Both types have a sharp peak at shorter lengths:\n",
    "\n",
    "Most news articles (FAKE and TRUE) are relatively short (likely under 500 words).\n",
    "\n",
    "There's a sharp drop in frequency as text length increases.\n",
    "\n",
    "FAKE news appears slightly more spread out:\n",
    "\n",
    "The FAKE label has more longer articles (higher tail on the right).\n",
    "\n",
    "This suggests fake news might include more verbose or exaggerated text.\n",
    "\n",
    "TRUE news is more tightly clustered:\n",
    "\n",
    "It’s concentrated more closely around a narrow range.\n",
    "\n",
    "This implies real news tends to be more concise and consistent in length.\n",
    "\n",
    "'''\n",
    "\n",
    "\n",
    "df_cleaned['Text Length'] = df_cleaned['News Items'].apply(len)\n",
    "\n",
    "plt.figure(figsize=(10, 6))\n",
    "sns.histplot(data=df_cleaned, x='Text Length', hue='Label', kde=True, bins=40)\n",
    "plt.title('Distribution of News Text Lengths by Label')\n",
    "plt.xlabel('Text Length')\n",
    "plt.ylabel('Frequency')\n",
    "plt.show()\n"
   ]
  },
  {
   "cell_type": "code",
   "execution_count": 27,
   "metadata": {
    "colab": {
     "base_uri": "https://localhost:8080/"
    },
    "collapsed": true,
    "executionInfo": {
     "elapsed": 32240,
     "status": "ok",
     "timestamp": 1744981651579,
     "user": {
      "displayName": "rameen butt",
      "userId": "00965946940138084277"
     },
     "user_tz": -300
    },
    "id": "KAp_y0DpgEsW",
    "outputId": "41aee26e-0566-4f49-fe42-0dfbf8a1c98d"
   },
   "outputs": [
    {
     "name": "stderr",
     "output_type": "stream",
     "text": [
      "'apt-get' is not recognized as an internal or external command,\n",
      "operable program or batch file.\n"
     ]
    }
   ],
   "source": [
    "!apt-get -y install fonts-noto\n"
   ]
  },
  {
   "cell_type": "code",
   "execution_count": 28,
   "metadata": {
    "colab": {
     "base_uri": "https://localhost:8080/",
     "height": 295
    },
    "collapsed": true,
    "executionInfo": {
     "elapsed": 11813,
     "status": "ok",
     "timestamp": 1744822278304,
     "user": {
      "displayName": "rameen butt",
      "userId": "00965946940138084277"
     },
     "user_tz": -300
    },
    "id": "Qjs6Wz8lgb0t",
    "outputId": "429274dd-6cd9-42d3-b3e7-f248df8c015b"
   },
   "outputs": [
    {
     "data": {
      "image/png": "[encoded data removed]",
      "text/plain": [
       "<Figure size 1500x600 with 2 Axes>"
      ]
     },
     "metadata": {},
     "output_type": "display_data"
    }
   ],
   "source": [
    "import os\n",
    "\n",
    "urdu_fonts = []\n",
    "for root, dirs, files in os.walk(\"/usr/share/fonts/\"):\n",
    "    for file in files:\n",
    "        if 'NotoNastaliq' in file or 'Urdu' in file:\n",
    "            urdu_fonts.append(os.path.join(root, file))\n",
    "\n",
    "urdu_fonts  # print font paths\n",
    "from wordcloud import WordCloud\n",
    "import matplotlib.pyplot as plt\n",
    "\n",
    "# Combine texts\n",
    "fake_text = ' '.join(df_cleaned[df_cleaned['Label'] == 'FAKE']['News Items'])\n",
    "true_text = ' '.join(df_cleaned[df_cleaned['Label'] == 'TRUE']['News Items'])\n",
    "\n",
    "# Use Urdu font\n",
    "font_path = 'NotoNastaliqUrdu-Regular.ttf'\n",
    "\n",
    "wordcloud_fake = WordCloud(font_path=font_path, background_color='white', width=800, height=400).generate(fake_text)\n",
    "wordcloud_true = WordCloud(font_path=font_path, background_color='white', width=800, height=400).generate(true_text)\n",
    "\n",
    "# Plotting\n",
    "plt.figure(figsize=(15, 6))\n",
    "\n",
    "plt.subplot(1, 2, 1)\n",
    "plt.imshow(wordcloud_fake, interpolation='bilinear')\n",
    "plt.title('WordCloud - FAKE News', fontsize=16)\n",
    "plt.axis('off')\n",
    "\n",
    "plt.subplot(1, 2, 2)\n",
    "plt.imshow(wordcloud_true, interpolation='bilinear')\n",
    "plt.title('WordCloud - TRUE News', fontsize=16)\n",
    "plt.axis('off')\n",
    "\n",
    "plt.tight_layout()\n",
    "plt.show()\n"
   ]
  },
  {
   "cell_type": "code",
   "execution_count": 29,
   "metadata": {
    "colab": {
     "base_uri": "https://localhost:8080/",
     "height": 424
    },
    "collapsed": true,
    "executionInfo": {
     "elapsed": 122,
     "status": "ok",
     "timestamp": 1744981655550,
     "user": {
      "displayName": "rameen butt",
      "userId": "00965946940138084277"
     },
     "user_tz": -300
    },
    "id": "3Mw9W_yUbRzk",
    "outputId": "267c15ed-aae7-448e-9598-60588b857c40"
   },
   "outputs": [
    {
     "data": {
      "text/html": [
       "<div>\n",
       "<style scoped>\n",
       "    .dataframe tbody tr th:only-of-type {\n",
       "        vertical-align: middle;\n",
       "    }\n",
       "\n",
       "    .dataframe tbody tr th {\n",
       "        vertical-align: top;\n",
       "    }\n",
       "\n",
       "    .dataframe thead th {\n",
       "        text-align: right;\n",
       "    }\n",
       "</style>\n",
       "<table border=\"1\" class=\"dataframe\">\n",
       "  <thead>\n",
       "    <tr style=\"text-align: right;\">\n",
       "      <th></th>\n",
       "      <th>News Items</th>\n",
       "      <th>Label</th>\n",
       "      <th>Text Length</th>\n",
       "    </tr>\n",
       "  </thead>\n",
       "  <tbody>\n",
       "    <tr>\n",
       "      <th>0</th>\n",
       "      <td>ٹی ٹی پی نے پنجاب حکومت کے ہیلی کاپٹر کے عملے ...</td>\n",
       "      <td>FAKE</td>\n",
       "      <td>77</td>\n",
       "    </tr>\n",
       "    <tr>\n",
       "      <th>1</th>\n",
       "      <td>مارک زکربرگ سیاست میں آنے کا سوچ رہے ہیں۔</td>\n",
       "      <td>FAKE</td>\n",
       "      <td>41</td>\n",
       "    </tr>\n",
       "    <tr>\n",
       "      <th>2</th>\n",
       "      <td>فریدہ جلال نے اپنی موت کی افواہوں پر تنقید کی۔</td>\n",
       "      <td>FAKE</td>\n",
       "      <td>46</td>\n",
       "    </tr>\n",
       "    <tr>\n",
       "      <th>3</th>\n",
       "      <td>جعلی خبریں: پاپ اسٹار حدیقہ کیانی نے جعلی منشی...</td>\n",
       "      <td>FAKE</td>\n",
       "      <td>90</td>\n",
       "    </tr>\n",
       "    <tr>\n",
       "      <th>4</th>\n",
       "      <td>صنم ماروی نے میڈیا پر گردش کرنے والی زیادتی او...</td>\n",
       "      <td>FAKE</td>\n",
       "      <td>85</td>\n",
       "    </tr>\n",
       "    <tr>\n",
       "      <th>...</th>\n",
       "      <td>...</td>\n",
       "      <td>...</td>\n",
       "      <td>...</td>\n",
       "    </tr>\n",
       "    <tr>\n",
       "      <th>9230</th>\n",
       "      <td>شاہین باغ، بریانی، گولیاں، پاکستان - یوگی آدتی...</td>\n",
       "      <td>TRUE</td>\n",
       "      <td>82</td>\n",
       "    </tr>\n",
       "    <tr>\n",
       "      <th>9231</th>\n",
       "      <td>بے روزگاری الاؤنس، کیش بیک اسکیمیں - کانگریس ن...</td>\n",
       "      <td>TRUE</td>\n",
       "      <td>81</td>\n",
       "    </tr>\n",
       "    <tr>\n",
       "      <th>9232</th>\n",
       "      <td>چدمبرم نے بجٹ پر تنقید کی، حکومت کا کہنا ہے کہ...</td>\n",
       "      <td>TRUE</td>\n",
       "      <td>83</td>\n",
       "    </tr>\n",
       "    <tr>\n",
       "      <th>9233</th>\n",
       "      <td>نتیش نے بہار میں 16,443 کلومیٹر طویل انسانی زن...</td>\n",
       "      <td>TRUE</td>\n",
       "      <td>98</td>\n",
       "    </tr>\n",
       "    <tr>\n",
       "      <th>9234</th>\n",
       "      <td>کراچی: ’’صحیح وقت پر شادی کر لی ہوتی تو دونوں ...</td>\n",
       "      <td>TRUE</td>\n",
       "      <td>325</td>\n",
       "    </tr>\n",
       "  </tbody>\n",
       "</table>\n",
       "<p>9235 rows × 3 columns</p>\n",
       "</div>"
      ],
      "text/plain": [
       "                                             News Items Label  Text Length\n",
       "0     ٹی ٹی پی نے پنجاب حکومت کے ہیلی کاپٹر کے عملے ...  FAKE           77\n",
       "1             مارک زکربرگ سیاست میں آنے کا سوچ رہے ہیں۔  FAKE           41\n",
       "2        فریدہ جلال نے اپنی موت کی افواہوں پر تنقید کی۔  FAKE           46\n",
       "3     جعلی خبریں: پاپ اسٹار حدیقہ کیانی نے جعلی منشی...  FAKE           90\n",
       "4     صنم ماروی نے میڈیا پر گردش کرنے والی زیادتی او...  FAKE           85\n",
       "...                                                 ...   ...          ...\n",
       "9230  شاہین باغ، بریانی، گولیاں، پاکستان - یوگی آدتی...  TRUE           82\n",
       "9231  بے روزگاری الاؤنس، کیش بیک اسکیمیں - کانگریس ن...  TRUE           81\n",
       "9232  چدمبرم نے بجٹ پر تنقید کی، حکومت کا کہنا ہے کہ...  TRUE           83\n",
       "9233  نتیش نے بہار میں 16,443 کلومیٹر طویل انسانی زن...  TRUE           98\n",
       "9234  کراچی: ’’صحیح وقت پر شادی کر لی ہوتی تو دونوں ...  TRUE          325\n",
       "\n",
       "[9235 rows x 3 columns]"
      ]
     },
     "execution_count": 29,
     "metadata": {},
     "output_type": "execute_result"
    }
   ],
   "source": [
    "df_cleaned"
   ]
  },
  {
   "cell_type": "markdown",
   "metadata": {
    "id": "7hlHb86EafJl"
   },
   "source": [
    "# **Text Preprocessing**"
   ]
  },
  {
   "cell_type": "markdown",
   "metadata": {
    "id": "K9z7aZyeiQ0m"
   },
   "source": [
    "**Label Encoding**"
   ]
  },
  {
   "cell_type": "code",
   "execution_count": 30,
   "metadata": {
    "colab": {
     "base_uri": "https://localhost:8080/",
     "height": 424
    },
    "collapsed": true,
    "executionInfo": {
     "elapsed": 102,
     "status": "ok",
     "timestamp": 1744982163278,
     "user": {
      "displayName": "rameen butt",
      "userId": "00965946940138084277"
     },
     "user_tz": -300
    },
    "id": "O7HlagSziPl2",
    "outputId": "15a467aa-589f-4e08-c184-68cf1bccb4ba"
   },
   "outputs": [
    {
     "data": {
      "text/html": [
       "<div>\n",
       "<style scoped>\n",
       "    .dataframe tbody tr th:only-of-type {\n",
       "        vertical-align: middle;\n",
       "    }\n",
       "\n",
       "    .dataframe tbody tr th {\n",
       "        vertical-align: top;\n",
       "    }\n",
       "\n",
       "    .dataframe thead th {\n",
       "        text-align: right;\n",
       "    }\n",
       "</style>\n",
       "<table border=\"1\" class=\"dataframe\">\n",
       "  <thead>\n",
       "    <tr style=\"text-align: right;\">\n",
       "      <th></th>\n",
       "      <th>News Items</th>\n",
       "      <th>Label</th>\n",
       "      <th>Text Length</th>\n",
       "    </tr>\n",
       "  </thead>\n",
       "  <tbody>\n",
       "    <tr>\n",
       "      <th>0</th>\n",
       "      <td>ٹی ٹی پی نے پنجاب حکومت کے ہیلی کاپٹر کے عملے ...</td>\n",
       "      <td>0</td>\n",
       "      <td>77</td>\n",
       "    </tr>\n",
       "    <tr>\n",
       "      <th>1</th>\n",
       "      <td>مارک زکربرگ سیاست میں آنے کا سوچ رہے ہیں۔</td>\n",
       "      <td>0</td>\n",
       "      <td>41</td>\n",
       "    </tr>\n",
       "    <tr>\n",
       "      <th>2</th>\n",
       "      <td>فریدہ جلال نے اپنی موت کی افواہوں پر تنقید کی۔</td>\n",
       "      <td>0</td>\n",
       "      <td>46</td>\n",
       "    </tr>\n",
       "    <tr>\n",
       "      <th>3</th>\n",
       "      <td>جعلی خبریں: پاپ اسٹار حدیقہ کیانی نے جعلی منشی...</td>\n",
       "      <td>0</td>\n",
       "      <td>90</td>\n",
       "    </tr>\n",
       "    <tr>\n",
       "      <th>4</th>\n",
       "      <td>صنم ماروی نے میڈیا پر گردش کرنے والی زیادتی او...</td>\n",
       "      <td>0</td>\n",
       "      <td>85</td>\n",
       "    </tr>\n",
       "    <tr>\n",
       "      <th>...</th>\n",
       "      <td>...</td>\n",
       "      <td>...</td>\n",
       "      <td>...</td>\n",
       "    </tr>\n",
       "    <tr>\n",
       "      <th>9230</th>\n",
       "      <td>شاہین باغ، بریانی، گولیاں، پاکستان - یوگی آدتی...</td>\n",
       "      <td>1</td>\n",
       "      <td>82</td>\n",
       "    </tr>\n",
       "    <tr>\n",
       "      <th>9231</th>\n",
       "      <td>بے روزگاری الاؤنس، کیش بیک اسکیمیں - کانگریس ن...</td>\n",
       "      <td>1</td>\n",
       "      <td>81</td>\n",
       "    </tr>\n",
       "    <tr>\n",
       "      <th>9232</th>\n",
       "      <td>چدمبرم نے بجٹ پر تنقید کی، حکومت کا کہنا ہے کہ...</td>\n",
       "      <td>1</td>\n",
       "      <td>83</td>\n",
       "    </tr>\n",
       "    <tr>\n",
       "      <th>9233</th>\n",
       "      <td>نتیش نے بہار میں 16,443 کلومیٹر طویل انسانی زن...</td>\n",
       "      <td>1</td>\n",
       "      <td>98</td>\n",
       "    </tr>\n",
       "    <tr>\n",
       "      <th>9234</th>\n",
       "      <td>کراچی: ’’صحیح وقت پر شادی کر لی ہوتی تو دونوں ...</td>\n",
       "      <td>1</td>\n",
       "      <td>325</td>\n",
       "    </tr>\n",
       "  </tbody>\n",
       "</table>\n",
       "<p>9235 rows × 3 columns</p>\n",
       "</div>"
      ],
      "text/plain": [
       "                                             News Items  Label  Text Length\n",
       "0     ٹی ٹی پی نے پنجاب حکومت کے ہیلی کاپٹر کے عملے ...      0           77\n",
       "1             مارک زکربرگ سیاست میں آنے کا سوچ رہے ہیں۔      0           41\n",
       "2        فریدہ جلال نے اپنی موت کی افواہوں پر تنقید کی۔      0           46\n",
       "3     جعلی خبریں: پاپ اسٹار حدیقہ کیانی نے جعلی منشی...      0           90\n",
       "4     صنم ماروی نے میڈیا پر گردش کرنے والی زیادتی او...      0           85\n",
       "...                                                 ...    ...          ...\n",
       "9230  شاہین باغ، بریانی، گولیاں، پاکستان - یوگی آدتی...      1           82\n",
       "9231  بے روزگاری الاؤنس، کیش بیک اسکیمیں - کانگریس ن...      1           81\n",
       "9232  چدمبرم نے بجٹ پر تنقید کی، حکومت کا کہنا ہے کہ...      1           83\n",
       "9233  نتیش نے بہار میں 16,443 کلومیٹر طویل انسانی زن...      1           98\n",
       "9234  کراچی: ’’صحیح وقت پر شادی کر لی ہوتی تو دونوں ...      1          325\n",
       "\n",
       "[9235 rows x 3 columns]"
      ]
     },
     "execution_count": 30,
     "metadata": {},
     "output_type": "execute_result"
    }
   ],
   "source": [
    "# Encode categorical columns (e.g., Label column)\n",
    "from sklearn.preprocessing import LabelEncoder\n",
    "\n",
    "# Initialize label encoder\n",
    "label_encoder = LabelEncoder()\n",
    "\n",
    "# Encode 'Label' column (Fake and True)\n",
    "df_cleaned['Label'] = label_encoder.fit_transform(df_cleaned['Label'])  # FAKE=0, TRUE=1\n",
    "df_cleaned"
   ]
  },
  {
   "cell_type": "markdown",
   "metadata": {
    "id": "M-BPWRNUalgF"
   },
   "source": [
    "**Removing Stop Words**"
   ]
  },
  {
   "cell_type": "code",
   "execution_count": 31,
   "metadata": {
    "id": "a1eSUPadbU8-"
   },
   "outputs": [],
   "source": [
    "import pandas as pd\n",
    "import string\n"
   ]
  },
  {
   "cell_type": "code",
   "execution_count": 32,
   "metadata": {
    "id": "0owZ55Q2apff"
   },
   "outputs": [],
   "source": [
    "with open('stopwords-ur.txt', 'r', encoding='utf-8') as f:  #loading stopwords\n",
    "    urdu_stopwords = set(f.read().splitlines())\n"
   ]
  },
  {
   "cell_type": "code",
   "execution_count": 33,
   "metadata": {
    "id": "rJ-l2GMAbL2c"
   },
   "outputs": [],
   "source": [
    "def clean_urdu_text(text):\n",
    "    return re.sub(r'[^\\u0600-\\u06FF\\s]', '', text)\n",
    "\n",
    "def preprocess_text(text):\n",
    "    text = text.lower()\n",
    "    text = clean_urdu_text(text)\n",
    "    tokens = text.split()\n",
    "    tokens = [word for word in tokens if word not in urdu_stopwords]\n",
    "    return ' '.join(tokens)\n"
   ]
  },
  {
   "cell_type": "code",
   "execution_count": 34,
   "metadata": {
    "id": "_nCAhcVmbQ0T"
   },
   "outputs": [],
   "source": [
    "df_cleaned['clean_text'] = df_cleaned['News Items'].apply(preprocess_text)\n"
   ]
  },
  {
   "cell_type": "code",
   "execution_count": 35,
   "metadata": {
    "colab": {
     "base_uri": "https://localhost:8080/"
    },
    "executionInfo": {
     "elapsed": 36,
     "status": "ok",
     "timestamp": 1744982175864,
     "user": {
      "displayName": "rameen butt",
      "userId": "00965946940138084277"
     },
     "user_tz": -300
    },
    "id": "RGw7Jojcn5HQ",
    "outputId": "4f773aba-7f7a-466c-ef77-038501edd64e"
   },
   "outputs": [
    {
     "name": "stdout",
     "output_type": "stream",
     "text": [
      "0    ٹی ٹی پی نے پنجاب حکومت ہیلی کاپٹر عملے کو یرغ...\n",
      "1                مارک زکربرگ سیاست میں آنے کا سوچ ہیں۔\n",
      "2             فریدہ جلال نے اپنی موت افواہوں تنقید کی۔\n",
      "3    جعلی خبریں پاپ اسٹار حدیقہ کیانی نے جعلی منشیا...\n",
      "4    صنم ماروی نے میڈیا گردش کرنے والی زیادتی ڈکیتی...\n",
      "Name: clean_text, dtype: object\n"
     ]
    }
   ],
   "source": [
    "print(df_cleaned[df_cleaned['Label'] == 0]['clean_text'].head())\n"
   ]
  },
  {
   "cell_type": "code",
   "execution_count": 36,
   "metadata": {
    "colab": {
     "base_uri": "https://localhost:8080/",
     "height": 424
    },
    "collapsed": true,
    "executionInfo": {
     "elapsed": 244,
     "status": "ok",
     "timestamp": 1744981685455,
     "user": {
      "displayName": "rameen butt",
      "userId": "00965946940138084277"
     },
     "user_tz": -300
    },
    "id": "seipfzeObYlc",
    "outputId": "0d29163f-c686-45bc-a54a-74c617ee4dd5"
   },
   "outputs": [
    {
     "data": {
      "text/html": [
       "<div>\n",
       "<style scoped>\n",
       "    .dataframe tbody tr th:only-of-type {\n",
       "        vertical-align: middle;\n",
       "    }\n",
       "\n",
       "    .dataframe tbody tr th {\n",
       "        vertical-align: top;\n",
       "    }\n",
       "\n",
       "    .dataframe thead th {\n",
       "        text-align: right;\n",
       "    }\n",
       "</style>\n",
       "<table border=\"1\" class=\"dataframe\">\n",
       "  <thead>\n",
       "    <tr style=\"text-align: right;\">\n",
       "      <th></th>\n",
       "      <th>News Items</th>\n",
       "      <th>Label</th>\n",
       "      <th>Text Length</th>\n",
       "      <th>clean_text</th>\n",
       "    </tr>\n",
       "  </thead>\n",
       "  <tbody>\n",
       "    <tr>\n",
       "      <th>0</th>\n",
       "      <td>ٹی ٹی پی نے پنجاب حکومت کے ہیلی کاپٹر کے عملے ...</td>\n",
       "      <td>0</td>\n",
       "      <td>77</td>\n",
       "      <td>ٹی ٹی پی نے پنجاب حکومت ہیلی کاپٹر عملے کو یرغ...</td>\n",
       "    </tr>\n",
       "    <tr>\n",
       "      <th>1</th>\n",
       "      <td>مارک زکربرگ سیاست میں آنے کا سوچ رہے ہیں۔</td>\n",
       "      <td>0</td>\n",
       "      <td>41</td>\n",
       "      <td>مارک زکربرگ سیاست میں آنے کا سوچ ہیں۔</td>\n",
       "    </tr>\n",
       "    <tr>\n",
       "      <th>2</th>\n",
       "      <td>فریدہ جلال نے اپنی موت کی افواہوں پر تنقید کی۔</td>\n",
       "      <td>0</td>\n",
       "      <td>46</td>\n",
       "      <td>فریدہ جلال نے اپنی موت افواہوں تنقید کی۔</td>\n",
       "    </tr>\n",
       "    <tr>\n",
       "      <th>3</th>\n",
       "      <td>جعلی خبریں: پاپ اسٹار حدیقہ کیانی نے جعلی منشی...</td>\n",
       "      <td>0</td>\n",
       "      <td>90</td>\n",
       "      <td>جعلی خبریں پاپ اسٹار حدیقہ کیانی نے جعلی منشیا...</td>\n",
       "    </tr>\n",
       "    <tr>\n",
       "      <th>4</th>\n",
       "      <td>صنم ماروی نے میڈیا پر گردش کرنے والی زیادتی او...</td>\n",
       "      <td>0</td>\n",
       "      <td>85</td>\n",
       "      <td>صنم ماروی نے میڈیا گردش کرنے والی زیادتی ڈکیتی...</td>\n",
       "    </tr>\n",
       "    <tr>\n",
       "      <th>...</th>\n",
       "      <td>...</td>\n",
       "      <td>...</td>\n",
       "      <td>...</td>\n",
       "      <td>...</td>\n",
       "    </tr>\n",
       "    <tr>\n",
       "      <th>9230</th>\n",
       "      <td>شاہین باغ، بریانی، گولیاں، پاکستان - یوگی آدتی...</td>\n",
       "      <td>1</td>\n",
       "      <td>82</td>\n",
       "      <td>شاہین باغ، بریانی، گولیاں، پاکستان یوگی آدتیہ ...</td>\n",
       "    </tr>\n",
       "    <tr>\n",
       "      <th>9231</th>\n",
       "      <td>بے روزگاری الاؤنس، کیش بیک اسکیمیں - کانگریس ن...</td>\n",
       "      <td>1</td>\n",
       "      <td>81</td>\n",
       "      <td>بے روزگاری الاؤنس، کیش بیک اسکیمیں کانگریس نے ...</td>\n",
       "    </tr>\n",
       "    <tr>\n",
       "      <th>9232</th>\n",
       "      <td>چدمبرم نے بجٹ پر تنقید کی، حکومت کا کہنا ہے کہ...</td>\n",
       "      <td>1</td>\n",
       "      <td>83</td>\n",
       "      <td>چدمبرم نے بجٹ تنقید کی، حکومت کا کہنا سنگین می...</td>\n",
       "    </tr>\n",
       "    <tr>\n",
       "      <th>9233</th>\n",
       "      <td>نتیش نے بہار میں 16,443 کلومیٹر طویل انسانی زن...</td>\n",
       "      <td>1</td>\n",
       "      <td>98</td>\n",
       "      <td>نتیش نے بہار میں کلومیٹر طویل انسانی زنجیر قیا...</td>\n",
       "    </tr>\n",
       "    <tr>\n",
       "      <th>9234</th>\n",
       "      <td>کراچی: ’’صحیح وقت پر شادی کر لی ہوتی تو دونوں ...</td>\n",
       "      <td>1</td>\n",
       "      <td>325</td>\n",
       "      <td>کراچی صحیح وقت شادی کر دونوں اتنے اتنے بچے سرف...</td>\n",
       "    </tr>\n",
       "  </tbody>\n",
       "</table>\n",
       "<p>9235 rows × 4 columns</p>\n",
       "</div>"
      ],
      "text/plain": [
       "                                             News Items  Label  Text Length  \\\n",
       "0     ٹی ٹی پی نے پنجاب حکومت کے ہیلی کاپٹر کے عملے ...      0           77   \n",
       "1             مارک زکربرگ سیاست میں آنے کا سوچ رہے ہیں۔      0           41   \n",
       "2        فریدہ جلال نے اپنی موت کی افواہوں پر تنقید کی۔      0           46   \n",
       "3     جعلی خبریں: پاپ اسٹار حدیقہ کیانی نے جعلی منشی...      0           90   \n",
       "4     صنم ماروی نے میڈیا پر گردش کرنے والی زیادتی او...      0           85   \n",
       "...                                                 ...    ...          ...   \n",
       "9230  شاہین باغ، بریانی، گولیاں، پاکستان - یوگی آدتی...      1           82   \n",
       "9231  بے روزگاری الاؤنس، کیش بیک اسکیمیں - کانگریس ن...      1           81   \n",
       "9232  چدمبرم نے بجٹ پر تنقید کی، حکومت کا کہنا ہے کہ...      1           83   \n",
       "9233  نتیش نے بہار میں 16,443 کلومیٹر طویل انسانی زن...      1           98   \n",
       "9234  کراچی: ’’صحیح وقت پر شادی کر لی ہوتی تو دونوں ...      1          325   \n",
       "\n",
       "                                             clean_text  \n",
       "0     ٹی ٹی پی نے پنجاب حکومت ہیلی کاپٹر عملے کو یرغ...  \n",
       "1                 مارک زکربرگ سیاست میں آنے کا سوچ ہیں۔  \n",
       "2              فریدہ جلال نے اپنی موت افواہوں تنقید کی۔  \n",
       "3     جعلی خبریں پاپ اسٹار حدیقہ کیانی نے جعلی منشیا...  \n",
       "4     صنم ماروی نے میڈیا گردش کرنے والی زیادتی ڈکیتی...  \n",
       "...                                                 ...  \n",
       "9230  شاہین باغ، بریانی، گولیاں، پاکستان یوگی آدتیہ ...  \n",
       "9231  بے روزگاری الاؤنس، کیش بیک اسکیمیں کانگریس نے ...  \n",
       "9232  چدمبرم نے بجٹ تنقید کی، حکومت کا کہنا سنگین می...  \n",
       "9233  نتیش نے بہار میں کلومیٹر طویل انسانی زنجیر قیا...  \n",
       "9234  کراچی صحیح وقت شادی کر دونوں اتنے اتنے بچے سرف...  \n",
       "\n",
       "[9235 rows x 4 columns]"
      ]
     },
     "execution_count": 36,
     "metadata": {},
     "output_type": "execute_result"
    }
   ],
   "source": [
    "df_cleaned"
   ]
  },
  {
   "cell_type": "code",
   "execution_count": 37,
   "metadata": {
    "colab": {
     "base_uri": "https://localhost:8080/",
     "height": 422
    },
    "collapsed": true,
    "executionInfo": {
     "elapsed": 5695,
     "status": "ok",
     "timestamp": 1744824568575,
     "user": {
      "displayName": "rameen butt",
      "userId": "00965946940138084277"
     },
     "user_tz": -300
    },
    "id": "FKhBEn-ecqX2",
    "outputId": "ab8f92d2-3ec6-435b-abcb-098afe12778f"
   },
   "outputs": [
    {
     "data": {
      "image/png": "[encoded data removed]",
      "text/plain": [
       "<Figure size 1000x500 with 1 Axes>"
      ]
     },
     "metadata": {},
     "output_type": "display_data"
    }
   ],
   "source": [
    "wordcloud = WordCloud(background_color='white', width=800, height=400, max_words=200).generate(' '.join(df_cleaned['clean_text']))\n",
    "plt.figure(figsize=(10, 5))\n",
    "plt.imshow(wordcloud, interpolation='bilinear')\n",
    "plt.axis('off')\n",
    "plt.show()"
   ]
  },
  {
   "cell_type": "code",
   "execution_count": 38,
   "metadata": {
    "colab": {
     "base_uri": "https://localhost:8080/",
     "height": 335
    },
    "executionInfo": {
     "elapsed": 32,
     "status": "ok",
     "timestamp": 1744982182414,
     "user": {
      "displayName": "rameen butt",
      "userId": "00965946940138084277"
     },
     "user_tz": -300
    },
    "id": "EV7JTGF_fFal",
    "outputId": "6f2bace9-882d-4f19-83be-8da9cc510d0c"
   },
   "outputs": [
    {
     "data": {
      "text/plain": [
       "count    9235.000000\n",
       "mean      288.935030\n",
       "std       560.868046\n",
       "min         0.000000\n",
       "25%        70.000000\n",
       "50%       115.000000\n",
       "75%       192.000000\n",
       "max      4214.000000\n",
       "Name: clean_text, dtype: float64"
      ]
     },
     "execution_count": 38,
     "metadata": {},
     "output_type": "execute_result"
    }
   ],
   "source": [
    "# Check the length of the cleaned text\n",
    "df_cleaned['clean_text'].apply(len).describe()\n"
   ]
  },
  {
   "cell_type": "markdown",
   "metadata": {
    "id": "Jge1Ecbg-GaV"
   },
   "source": [
    "**TF-IDF**"
   ]
  },
  {
   "cell_type": "code",
   "execution_count": 39,
   "metadata": {
    "id": "w9IuMUERjWZA"
   },
   "outputs": [],
   "source": [
    "#TF-IDF to convert text data into numerical features:\n",
    "from sklearn.feature_extraction.text import TfidfVectorizer\n",
    "\n",
    "tfidf_vectorizer = TfidfVectorizer(max_features=500)\n",
    "X_tfidf = tfidf_vectorizer.fit_transform(df_cleaned['clean_text'])\n",
    "X_tfidf_df = pd.DataFrame(X_tfidf.toarray(), columns=tfidf_vectorizer.get_feature_names_out())\n",
    "df_cleaned = pd.concat([df_cleaned, X_tfidf_df], axis=1)\n",
    "y=df_cleaned['Label']\n",
    "\n",
    "\n"
   ]
  },
  {
   "cell_type": "markdown",
   "metadata": {
    "id": "7anLOy5t-IW2"
   },
   "source": [
    "**WORD2VEC**"
   ]
  },
  {
   "cell_type": "code",
   "execution_count": 40,
   "metadata": {
    "colab": {
     "base_uri": "https://localhost:8080/"
    },
    "collapsed": true,
    "executionInfo": {
     "elapsed": 5651,
     "status": "ok",
     "timestamp": 1744981771443,
     "user": {
      "displayName": "rameen butt",
      "userId": "00965946940138084277"
     },
     "user_tz": -300
    },
    "id": "lRbYHbl2-N45",
    "outputId": "56f8933c-29f5-4552-e9c5-20cf611c91a5"
   },
   "outputs": [
    {
     "name": "stdout",
     "output_type": "stream",
     "text": [
      "Defaulting to user installation because normal site-packages is not writeable\n",
      "Requirement already satisfied: gensim in c:\\programdata\\anaconda3\\lib\\site-packages (4.3.3)\n",
      "Requirement already satisfied: numpy<2.0,>=1.18.5 in c:\\users\\fast.lab12-pc11\\appdata\\roaming\\python\\python312\\site-packages (from gensim) (1.26.4)\n",
      "Requirement already satisfied: scipy<1.14.0,>=1.7.0 in c:\\users\\fast.lab12-pc11\\appdata\\roaming\\python\\python312\\site-packages (from gensim) (1.13.1)\n",
      "Requirement already satisfied: smart-open>=1.8.1 in c:\\programdata\\anaconda3\\lib\\site-packages (from gensim) (5.2.1)\n"
     ]
    },
    {
     "name": "stderr",
     "output_type": "stream",
     "text": [
      "\n",
      "[notice] A new release of pip is available: 25.0.1 -> 25.1\n",
      "[notice] To update, run: python.exe -m pip install --upgrade pip\n"
     ]
    }
   ],
   "source": [
    "!pip install gensim\n"
   ]
  },
  {
   "cell_type": "code",
   "execution_count": 41,
   "metadata": {
    "id": "DCYoNI1N-Kmh"
   },
   "outputs": [],
   "source": [
    "from gensim.models import Word2Vec\n",
    "\n",
    "df_cleaned['tokens'] = df_cleaned['clean_text'].apply(lambda x: x.split())\n",
    "\n",
    "#train Word2Vec model on corpus\n",
    "w2v_model=Word2Vec(sentences=df_cleaned['tokens'], vector_size=100, window=5, min_count=1, workers=4)\n",
    "\n",
    "#func to convert sentence to average word vectors\n",
    "def get_average_vector(tokens, model, vector_size):\n",
    "    valid_vectors = [model.wv[word] for word in tokens if word in model.wv]\n",
    "    if valid_vectors:\n",
    "        return np.mean(valid_vectors, axis=0)\n",
    "    else:\n",
    "        return np.zeros(vector_size)\n",
    "\n",
    "#feature matrix\n",
    "X_w2v = np.array([get_average_vector(tokens, w2v_model, 100) for tokens in df_cleaned['tokens']])\n",
    "y = df_cleaned['Label']"
   ]
  },
  {
   "cell_type": "code",
   "execution_count": 42,
   "metadata": {
    "colab": {
     "base_uri": "https://localhost:8080/"
    },
    "executionInfo": {
     "elapsed": 43,
     "status": "ok",
     "timestamp": 1744982374729,
     "user": {
      "displayName": "rameen butt",
      "userId": "00965946940138084277"
     },
     "user_tz": -300
    },
    "id": "UF81y8_4DA5N",
    "outputId": "186d01a5-61c6-450b-c3a2-4a27f1771851"
   },
   "outputs": [
    {
     "name": "stdout",
     "output_type": "stream",
     "text": [
      "[-0.02176615  0.44651991 -0.34893018 -0.23679556  0.1451961  -0.80498552\n",
      "  0.19099025  0.53535765 -0.28596488 -0.61738902 -0.25974762 -0.5609321\n",
      "  0.04930551 -0.10994989  0.19632633 -0.24240923  0.43660304 -0.70343024\n",
      " -0.86846763 -1.19644737  0.41517636  0.32101065  0.01796267  0.20587155\n",
      " -0.03462071  0.47464949 -0.31787539 -0.2010103  -0.49363428  0.66606385\n",
      "  0.11570422 -0.0535216  -0.09663552 -0.69134384 -0.16134427  0.69910038\n",
      "  0.17774591  0.13491011 -0.29149246 -0.57415289 -0.07340549 -0.7703113\n",
      "  0.07755431  0.2572532   0.39262772  0.24461924 -0.26953945 -0.10204262\n",
      " -0.27914014  0.20084248 -0.21141453 -0.29998326 -0.68861383 -0.28578568\n",
      "  0.1796197  -0.17634162  0.39091167  0.36413345 -0.35498872  0.23747087\n",
      " -0.09444393 -0.15397581 -0.01576777  0.02301097 -0.47627598  1.05423236\n",
      "  0.14937404  0.5456267  -0.23470581  0.59706134 -0.08030333  0.15282226\n",
      "  0.62040752 -0.00334369 -0.21572898  0.19297723 -0.25739092  0.38298851\n",
      "  0.0683972  -0.28076831 -0.62296325  0.44913888 -0.20417692  0.98847258\n",
      "  0.01063378  0.15471588  0.1520554   0.65456903  0.28290361 -0.18864314\n",
      "  0.41938898  0.64006752  0.40258288  0.11067385  0.64957231  0.35045815\n",
      "  0.1279145  -0.66064423 -0.00958234 -0.10517865]\n"
     ]
    }
   ],
   "source": [
    "print((X_w2v[0]))"
   ]
  },
  {
   "cell_type": "markdown",
   "metadata": {
    "id": "xgAR9-Mz-aTr"
   },
   "source": [
    "**BERT**"
   ]
  },
  {
   "cell_type": "code",
   "execution_count": 43,
   "metadata": {
    "colab": {
     "base_uri": "https://localhost:8080/"
    },
    "collapsed": true,
    "executionInfo": {
     "elapsed": 135400,
     "status": "ok",
     "timestamp": 1744982351530,
     "user": {
      "displayName": "rameen butt",
      "userId": "00965946940138084277"
     },
     "user_tz": -300
    },
    "id": "0CZD1Xld-n-v",
    "outputId": "d6058645-0a63-44bb-e888-325b42b5f795"
   },
   "outputs": [
    {
     "name": "stdout",
     "output_type": "stream",
     "text": [
      "Defaulting to user installation because normal site-packages is not writeable\n",
      "Requirement already satisfied: transformers in c:\\users\\fast.lab12-pc11\\appdata\\roaming\\python\\python312\\site-packages (4.51.3)\n",
      "Requirement already satisfied: filelock in c:\\users\\fast.lab12-pc11\\appdata\\roaming\\python\\python312\\site-packages (from transformers) (3.18.0)\n",
      "Requirement already satisfied: huggingface-hub<1.0,>=0.30.0 in c:\\users\\fast.lab12-pc11\\appdata\\roaming\\python\\python312\\site-packages (from transformers) (0.30.2)\n",
      "Requirement already satisfied: numpy>=1.17 in c:\\users\\fast.lab12-pc11\\appdata\\roaming\\python\\python312\\site-packages (from transformers) (1.26.4)\n",
      "Requirement already satisfied: packaging>=20.0 in c:\\users\\fast.lab12-pc11\\appdata\\roaming\\python\\python312\\site-packages (from transformers) (25.0)\n",
      "Requirement already satisfied: pyyaml>=5.1 in c:\\users\\fast.lab12-pc11\\appdata\\roaming\\python\\python312\\site-packages (from transformers) (6.0.2)\n",
      "Requirement already satisfied: regex!=2019.12.17 in c:\\users\\fast.lab12-pc11\\appdata\\roaming\\python\\python312\\site-packages (from transformers) (2024.11.6)\n",
      "Requirement already satisfied: requests in c:\\users\\fast.lab12-pc11\\appdata\\roaming\\python\\python312\\site-packages (from transformers) (2.32.3)\n",
      "Requirement already satisfied: tokenizers<0.22,>=0.21 in c:\\users\\fast.lab12-pc11\\appdata\\roaming\\python\\python312\\site-packages (from transformers) (0.21.1)\n",
      "Requirement already satisfied: safetensors>=0.4.3 in c:\\users\\fast.lab12-pc11\\appdata\\roaming\\python\\python312\\site-packages (from transformers) (0.5.3)\n",
      "Requirement already satisfied: tqdm>=4.27 in c:\\users\\fast.lab12-pc11\\appdata\\roaming\\python\\python312\\site-packages (from transformers) (4.67.1)\n",
      "Requirement already satisfied: fsspec>=2023.5.0 in c:\\users\\fast.lab12-pc11\\appdata\\roaming\\python\\python312\\site-packages (from huggingface-hub<1.0,>=0.30.0->transformers) (2024.12.0)\n",
      "Requirement already satisfied: typing-extensions>=3.7.4.3 in c:\\users\\fast.lab12-pc11\\appdata\\roaming\\python\\python312\\site-packages (from huggingface-hub<1.0,>=0.30.0->transformers) (4.13.2)\n",
      "Requirement already satisfied: colorama in c:\\users\\fast.lab12-pc11\\appdata\\roaming\\python\\python312\\site-packages (from tqdm>=4.27->transformers) (0.4.6)\n",
      "Requirement already satisfied: charset-normalizer<4,>=2 in c:\\users\\fast.lab12-pc11\\appdata\\roaming\\python\\python312\\site-packages (from requests->transformers) (3.4.1)\n",
      "Requirement already satisfied: idna<4,>=2.5 in c:\\users\\fast.lab12-pc11\\appdata\\roaming\\python\\python312\\site-packages (from requests->transformers) (3.10)\n",
      "Requirement already satisfied: urllib3<3,>=1.21.1 in c:\\users\\fast.lab12-pc11\\appdata\\roaming\\python\\python312\\site-packages (from requests->transformers) (2.4.0)\n",
      "Requirement already satisfied: certifi>=2017.4.17 in c:\\users\\fast.lab12-pc11\\appdata\\roaming\\python\\python312\\site-packages (from requests->transformers) (2025.1.31)\n"
     ]
    },
    {
     "name": "stderr",
     "output_type": "stream",
     "text": [
      "\n",
      "[notice] A new release of pip is available: 25.0.1 -> 25.1\n",
      "[notice] To update, run: python.exe -m pip install --upgrade pip\n"
     ]
    },
    {
     "name": "stdout",
     "output_type": "stream",
     "text": [
      "Defaulting to user installation because normal site-packages is not writeable\n",
      "Requirement already satisfied: torch in c:\\users\\fast.lab12-pc11\\appdata\\roaming\\python\\python312\\site-packages (2.5.1+cu121)\n",
      "Requirement already satisfied: filelock in c:\\users\\fast.lab12-pc11\\appdata\\roaming\\python\\python312\\site-packages (from torch) (3.18.0)\n",
      "Requirement already satisfied: typing-extensions>=4.8.0 in c:\\users\\fast.lab12-pc11\\appdata\\roaming\\python\\python312\\site-packages (from torch) (4.13.2)\n",
      "Requirement already satisfied: networkx in c:\\users\\fast.lab12-pc11\\appdata\\roaming\\python\\python312\\site-packages (from torch) (3.3)\n",
      "Requirement already satisfied: jinja2 in c:\\users\\fast.lab12-pc11\\appdata\\roaming\\python\\python312\\site-packages (from torch) (3.1.4)\n",
      "Requirement already satisfied: fsspec in c:\\users\\fast.lab12-pc11\\appdata\\roaming\\python\\python312\\site-packages (from torch) (2024.12.0)\n",
      "Requirement already satisfied: setuptools in c:\\users\\fast.lab12-pc11\\appdata\\roaming\\python\\python312\\site-packages (from torch) (78.1.0)\n",
      "Requirement already satisfied: sympy==1.13.1 in c:\\users\\fast.lab12-pc11\\appdata\\roaming\\python\\python312\\site-packages (from torch) (1.13.1)\n",
      "Requirement already satisfied: mpmath<1.4,>=1.1.0 in c:\\users\\fast.lab12-pc11\\appdata\\roaming\\python\\python312\\site-packages (from sympy==1.13.1->torch) (1.3.0)\n",
      "Requirement already satisfied: MarkupSafe>=2.0 in c:\\users\\fast.lab12-pc11\\appdata\\roaming\\python\\python312\\site-packages (from jinja2->torch) (3.0.2)\n"
     ]
    },
    {
     "name": "stderr",
     "output_type": "stream",
     "text": [
      "\n",
      "[notice] A new release of pip is available: 25.0.1 -> 25.1\n",
      "[notice] To update, run: python.exe -m pip install --upgrade pip\n"
     ]
    }
   ],
   "source": [
    "!pip install transformers\n",
    "!pip install torch"
   ]
  },
  {
   "cell_type": "code",
   "execution_count": 44,
   "metadata": {
    "colab": {
     "base_uri": "https://localhost:8080/",
     "height": 658,
     "referenced_widgets": [
      "2d3d3308f0de401a983f2bbc4ffcd665",
      "8e73f1bea1b04d639c71b3eddf946837",
      "cb82719bff224095bd4ca5e6a321db0a",
      "27a2f3c6a16445feb68900660444a5d7",
      "40c0bccf719d49dfb1718b9fcbf356e7",
      "13d568a3c85b4428b63912121d817269",
      "1327e3b4fdf44790acc98f1bf66b5a3a",
      "a1b2aaf1b4c74bcfaf9574ae3ad5c2f3",
      "0f2b96ed4db247f2b6bb452d0bab5682",
      "db98a13ee4ae446b9c9c845d6dc627c5",
      "fbe20e99eaee4ad5ae131d6e5fb1aae3",
      "cf3951bd540346ad93334d36ad032c12",
      "e3a0c25caf3d44e4b9aa6c14d09f1658",
      "ca1cbd0720eb4b589446f060a9609f9f",
      "55537c3ec54b44a89576820136cea01f",
      "c109b5f90279460b9bf6b44d0588ac8e",
      "45edb8fc16d34dfca96944e6c80251bd",
      "bbe30637be50409795b005e1ad58bcb0",
      "c305e505a6064007a68712bdfbc569a5",
      "ee632b823493495cbe5cba4eca9cfd0b",
      "71236794a98640c49dd0fd90b3caecc9",
      "6fc157d954234e7dbd6ae91342ccb709",
      "df7a43f9f992499e9eef3e78d237db61",
      "7fb4cfd8f5ba4462b6a147957ea59587",
      "953b577e24d94f5d9be6f8017050adc5",
      "fc4777dc458744108e0948c9497e3dd3",
      "ed1425d5a49745f9844c29f99c2829ec",
      "16813f452e8b465687c4eede6b997836",
      "9a8761edb16a4494b5b427f6d135baf3",
      "09bf587de671483cb84d7356f9eafc26",
      "c7eab0ad5aec429495f98433df3bb48b",
      "89207e54b98940b09d65b24f0635ff22",
      "b3f3bf04c345492692805277de224bcc",
      "14b2a2eab381413493075c8b0c51f203",
      "f0efcf24ce3b4e4f8686c79c36262ebc",
      "94d4acee83274d978fb938194f9f7a17",
      "aff6602476c147adb34bf41200fc7475",
      "e833caa3f1824b25b2f45ff8aa24fae2",
      "5d649af8175140c5a539d65810361531",
      "3b58df472666417dbca4c3ea77fb003e",
      "486b4a292e764e8ea26d5c12268bd351",
      "6832a37fec344079b2740e0686657aab",
      "b283524e8820485b8ce31c047651031a",
      "0dcc50de30fd44369814ea23a8b1b4bf",
      "029a569d0621493aa29818b1881c814a",
      "4eb68793b5204f0f9bbbac3da71c8c65",
      "8922998597254796b36dec3cfa9c0524",
      "4a01fd5f6fbe4c4eab5e70dd885daf30",
      "cd57276b5280402c93e1f6851ae0d899",
      "b16b653d8e6d4cbcb402ebbfb68193f2",
      "1e6f6960ca2a40b3991a873a5f589535",
      "4b4e2ce6385042e4a01bda79f8c5df45",
      "5083c4d5e633466598867a893a3b3d87",
      "b3f651062b05426a855851bd565a59f9",
      "b1ece3a041e841f5ad3f4addffc48773"
     ]
    },
    "collapsed": true,
    "executionInfo": {
     "elapsed": 217441,
     "status": "error",
     "timestamp": 1744982914862,
     "user": {
      "displayName": "rameen butt",
      "userId": "00965946940138084277"
     },
     "user_tz": -300
    },
    "id": "Vo2j_0Hl-tKx",
    "outputId": "d58159f5-a4d8-4690-a98b-3cda3bb841cd"
   },
   "outputs": [
    {
     "name": "stderr",
     "output_type": "stream",
     "text": [
      "100%|██████████| 9235/9235 [06:14<00:00, 24.65it/s]\n"
     ]
    }
   ],
   "source": [
    "from tqdm import tqdm\n",
    "from transformers import BertTokenizer, BertModel\n",
    "import torch\n",
    "\n",
    "tokenizer = BertTokenizer.from_pretrained(\"bert-base-multilingual-cased\")\n",
    "bert_model = BertModel.from_pretrained(\"bert-base-multilingual-cased\")\n",
    "\n",
    "#tokenize and encode in batches\n",
    "def get_bert_embeddings(texts):\n",
    "    embeddings = []\n",
    "    for text in tqdm(texts):\n",
    "        inputs = tokenizer(text, return_tensors=\"pt\", truncation=True, padding=True, max_length=128)\n",
    "        with torch.no_grad():\n",
    "            outputs = bert_model(**inputs)\n",
    "        cls_embedding = outputs.last_hidden_state[0][0]  #CLS token\n",
    "        embeddings.append(cls_embedding.numpy())\n",
    "    return np.array(embeddings)\n",
    "\n",
    "#embeddings\n",
    "X_bert=get_bert_embeddings(df_cleaned['clean_text'])"
   ]
  },
  {
   "cell_type": "markdown",
   "metadata": {
    "id": "zcYxexu7-yhp"
   },
   "source": [
    "WE WILL BE USING BERT, TF-IDF AND WORD2VEC FOR TRAINING AND SEE WHICH GIVES BEST ACCURACY"
   ]
  },
  {
   "cell_type": "markdown",
   "metadata": {
    "id": "dAcDsrb6mQEZ"
   },
   "source": [
    "# **Feature Selection & Engineering**"
   ]
  },
  {
   "cell_type": "markdown",
   "metadata": {
    "id": "N2W8mRoJlrU2"
   },
   "source": [
    "\n",
    "Slightly imbalanced data\n",
    "- FAKE: 4637\n",
    "- TRUE: 4598\n",
    "\n",
    "Lets look at different ways to deal with this.\n"
   ]
  },
  {
   "cell_type": "markdown",
   "metadata": {
    "id": "gSjJpd04_957"
   },
   "source": [
    "**Re Sampling**"
   ]
  },
  {
   "cell_type": "code",
   "execution_count": 45,
   "metadata": {
    "colab": {
     "base_uri": "https://localhost:8080/"
    },
    "executionInfo": {
     "elapsed": 4990,
     "status": "ok",
     "timestamp": 1744982926923,
     "user": {
      "displayName": "rameen butt",
      "userId": "00965946940138084277"
     },
     "user_tz": -300
    },
    "id": "EAigy4b-lWVu",
    "outputId": "8e6d138e-b497-4f7a-d9b1-e47ffcb38a23"
   },
   "outputs": [
    {
     "name": "stderr",
     "output_type": "stream",
     "text": [
      "C:\\Users\\FAST.LAB12-PC11\\AppData\\Roaming\\Python\\Python312\\site-packages\\sklearn\\base.py:474: FutureWarning: `BaseEstimator._validate_data` is deprecated in 1.6 and will be removed in 1.7. Use `sklearn.utils.validation.validate_data` instead. This function becomes public and is part of the scikit-learn developer API.\n",
      "  warnings.warn(\n"
     ]
    },
    {
     "name": "stdout",
     "output_type": "stream",
     "text": [
      "Class distribution after SMOTE:\n",
      "Label\n",
      "0    4637\n",
      "1    4637\n",
      "Name: count, dtype: int64\n"
     ]
    }
   ],
   "source": [
    "'''\n",
    "1-One way to oversample the minority class is using SMOTE (Synthetic Minority Over-sampling Technique),\n",
    "which generates synthetic data points for the minority class.\n",
    "'''\n",
    "smote = SMOTE(random_state=42)\n",
    "X_resampled_tf, y_resampled = smote.fit_resample(X_tfidf_df, y)\n",
    "print(\"Class distribution after SMOTE:\")\n",
    "print(pd.Series(y_resampled).value_counts())\n"
   ]
  },
  {
   "cell_type": "code",
   "execution_count": 46,
   "metadata": {
    "colab": {
     "base_uri": "https://localhost:8080/"
    },
    "executionInfo": {
     "elapsed": 628,
     "status": "ok",
     "timestamp": 1744982959035,
     "user": {
      "displayName": "rameen butt",
      "userId": "00965946940138084277"
     },
     "user_tz": -300
    },
    "id": "GSADi0IzDqrZ",
    "outputId": "ed6e9525-3b06-46d4-de49-975fb39e8372"
   },
   "outputs": [
    {
     "name": "stdout",
     "output_type": "stream",
     "text": [
      "Class distribution after SMOTE:\n",
      "Label\n",
      "0    4637\n",
      "1    4637\n",
      "Name: count, dtype: int64\n"
     ]
    },
    {
     "name": "stderr",
     "output_type": "stream",
     "text": [
      "C:\\Users\\FAST.LAB12-PC11\\AppData\\Roaming\\Python\\Python312\\site-packages\\sklearn\\base.py:474: FutureWarning: `BaseEstimator._validate_data` is deprecated in 1.6 and will be removed in 1.7. Use `sklearn.utils.validation.validate_data` instead. This function becomes public and is part of the scikit-learn developer API.\n",
      "  warnings.warn(\n"
     ]
    }
   ],
   "source": [
    "\n",
    "smote = SMOTE(random_state=42)\n",
    "X_resampled_w2v, y_resampled = smote.fit_resample(X_w2v, y)\n",
    "print(\"Class distribution after SMOTE:\")\n",
    "print(pd.Series(y_resampled).value_counts())\n"
   ]
  },
  {
   "cell_type": "code",
   "execution_count": 47,
   "metadata": {
    "colab": {
     "base_uri": "https://localhost:8080/",
     "height": 193
    },
    "executionInfo": {
     "elapsed": 89,
     "status": "error",
     "timestamp": 1744982960914,
     "user": {
      "displayName": "rameen butt",
      "userId": "00965946940138084277"
     },
     "user_tz": -300
    },
    "id": "cAHIGQ0mDqh5",
    "outputId": "cdf8c204-0ff2-41d1-fd58-f7c8acd8f436"
   },
   "outputs": [
    {
     "name": "stderr",
     "output_type": "stream",
     "text": [
      "C:\\Users\\FAST.LAB12-PC11\\AppData\\Roaming\\Python\\Python312\\site-packages\\sklearn\\base.py:474: FutureWarning: `BaseEstimator._validate_data` is deprecated in 1.6 and will be removed in 1.7. Use `sklearn.utils.validation.validate_data` instead. This function becomes public and is part of the scikit-learn developer API.\n",
      "  warnings.warn(\n"
     ]
    },
    {
     "name": "stdout",
     "output_type": "stream",
     "text": [
      "Class distribution after SMOTE:\n",
      "Label\n",
      "0    4637\n",
      "1    4637\n",
      "Name: count, dtype: int64\n"
     ]
    }
   ],
   "source": [
    "\n",
    "smote = SMOTE(random_state=42)\n",
    "X_resampled_bert, y_resampled = smote.fit_resample(X_bert, y)\n",
    "print(\"Class distribution after SMOTE:\")\n",
    "print(pd.Series(y_resampled).value_counts())\n"
   ]
  },
  {
   "cell_type": "code",
   "execution_count": 48,
   "metadata": {
    "colab": {
     "base_uri": "https://localhost:8080/",
     "height": 1000
    },
    "collapsed": true,
    "executionInfo": {
     "elapsed": 150,
     "status": "ok",
     "timestamp": 1744982969738,
     "user": {
      "displayName": "rameen butt",
      "userId": "00965946940138084277"
     },
     "user_tz": -300
    },
    "id": "D2EwgVIOpxcz",
    "outputId": "76dff083-6617-47ef-d05e-6c89ffbf848d"
   },
   "outputs": [
    {
     "data": {
      "text/html": [
       "<div>\n",
       "<style scoped>\n",
       "    .dataframe tbody tr th:only-of-type {\n",
       "        vertical-align: middle;\n",
       "    }\n",
       "\n",
       "    .dataframe tbody tr th {\n",
       "        vertical-align: top;\n",
       "    }\n",
       "\n",
       "    .dataframe thead th {\n",
       "        text-align: right;\n",
       "    }\n",
       "</style>\n",
       "<table border=\"1\" class=\"dataframe\">\n",
       "  <thead>\n",
       "    <tr style=\"text-align: right;\">\n",
       "      <th></th>\n",
       "      <th>News Items</th>\n",
       "      <th>Label</th>\n",
       "      <th>Text Length</th>\n",
       "      <th>clean_text</th>\n",
       "      <th>آباد</th>\n",
       "      <th>آخری</th>\n",
       "      <th>آر</th>\n",
       "      <th>آغاز</th>\n",
       "      <th>آف</th>\n",
       "      <th>آنے</th>\n",
       "      <th>...</th>\n",
       "      <th>ہیں</th>\n",
       "      <th>ہے</th>\n",
       "      <th>یا</th>\n",
       "      <th>یاد</th>\n",
       "      <th>یقین</th>\n",
       "      <th>یقینی</th>\n",
       "      <th>یو</th>\n",
       "      <th>یونیورسٹی</th>\n",
       "      <th>یہاں</th>\n",
       "      <th>tokens</th>\n",
       "    </tr>\n",
       "  </thead>\n",
       "  <tbody>\n",
       "    <tr>\n",
       "      <th>0</th>\n",
       "      <td>ٹی ٹی پی نے پنجاب حکومت کے ہیلی کاپٹر کے عملے ...</td>\n",
       "      <td>0</td>\n",
       "      <td>77</td>\n",
       "      <td>ٹی ٹی پی نے پنجاب حکومت ہیلی کاپٹر عملے کو یرغ...</td>\n",
       "      <td>0.0</td>\n",
       "      <td>0.0</td>\n",
       "      <td>0.0</td>\n",
       "      <td>0.0</td>\n",
       "      <td>0.0</td>\n",
       "      <td>0.00000</td>\n",
       "      <td>...</td>\n",
       "      <td>0.000000</td>\n",
       "      <td>0.16828</td>\n",
       "      <td>0.0</td>\n",
       "      <td>0.0</td>\n",
       "      <td>0.0</td>\n",
       "      <td>0.0</td>\n",
       "      <td>0.0</td>\n",
       "      <td>0.0</td>\n",
       "      <td>0.0</td>\n",
       "      <td>[ٹی, ٹی, پی, نے, پنجاب, حکومت, ہیلی, کاپٹر, عم...</td>\n",
       "    </tr>\n",
       "    <tr>\n",
       "      <th>1</th>\n",
       "      <td>مارک زکربرگ سیاست میں آنے کا سوچ رہے ہیں۔</td>\n",
       "      <td>0</td>\n",
       "      <td>41</td>\n",
       "      <td>مارک زکربرگ سیاست میں آنے کا سوچ ہیں۔</td>\n",
       "      <td>0.0</td>\n",
       "      <td>0.0</td>\n",
       "      <td>0.0</td>\n",
       "      <td>0.0</td>\n",
       "      <td>0.0</td>\n",
       "      <td>0.58234</td>\n",
       "      <td>...</td>\n",
       "      <td>0.350694</td>\n",
       "      <td>0.00000</td>\n",
       "      <td>0.0</td>\n",
       "      <td>0.0</td>\n",
       "      <td>0.0</td>\n",
       "      <td>0.0</td>\n",
       "      <td>0.0</td>\n",
       "      <td>0.0</td>\n",
       "      <td>0.0</td>\n",
       "      <td>[مارک, زکربرگ, سیاست, میں, آنے, کا, سوچ, ہیں۔]</td>\n",
       "    </tr>\n",
       "    <tr>\n",
       "      <th>2</th>\n",
       "      <td>فریدہ جلال نے اپنی موت کی افواہوں پر تنقید کی۔</td>\n",
       "      <td>0</td>\n",
       "      <td>46</td>\n",
       "      <td>فریدہ جلال نے اپنی موت افواہوں تنقید کی۔</td>\n",
       "      <td>0.0</td>\n",
       "      <td>0.0</td>\n",
       "      <td>0.0</td>\n",
       "      <td>0.0</td>\n",
       "      <td>0.0</td>\n",
       "      <td>0.00000</td>\n",
       "      <td>...</td>\n",
       "      <td>0.000000</td>\n",
       "      <td>0.00000</td>\n",
       "      <td>0.0</td>\n",
       "      <td>0.0</td>\n",
       "      <td>0.0</td>\n",
       "      <td>0.0</td>\n",
       "      <td>0.0</td>\n",
       "      <td>0.0</td>\n",
       "      <td>0.0</td>\n",
       "      <td>[فریدہ, جلال, نے, اپنی, موت, افواہوں, تنقید, کی۔]</td>\n",
       "    </tr>\n",
       "    <tr>\n",
       "      <th>3</th>\n",
       "      <td>جعلی خبریں: پاپ اسٹار حدیقہ کیانی نے جعلی منشی...</td>\n",
       "      <td>0</td>\n",
       "      <td>90</td>\n",
       "      <td>جعلی خبریں پاپ اسٹار حدیقہ کیانی نے جعلی منشیا...</td>\n",
       "      <td>0.0</td>\n",
       "      <td>0.0</td>\n",
       "      <td>0.0</td>\n",
       "      <td>0.0</td>\n",
       "      <td>0.0</td>\n",
       "      <td>0.00000</td>\n",
       "      <td>...</td>\n",
       "      <td>0.000000</td>\n",
       "      <td>0.00000</td>\n",
       "      <td>0.0</td>\n",
       "      <td>0.0</td>\n",
       "      <td>0.0</td>\n",
       "      <td>0.0</td>\n",
       "      <td>0.0</td>\n",
       "      <td>0.0</td>\n",
       "      <td>0.0</td>\n",
       "      <td>[جعلی, خبریں, پاپ, اسٹار, حدیقہ, کیانی, نے, جع...</td>\n",
       "    </tr>\n",
       "    <tr>\n",
       "      <th>4</th>\n",
       "      <td>صنم ماروی نے میڈیا پر گردش کرنے والی زیادتی او...</td>\n",
       "      <td>0</td>\n",
       "      <td>85</td>\n",
       "      <td>صنم ماروی نے میڈیا گردش کرنے والی زیادتی ڈکیتی...</td>\n",
       "      <td>0.0</td>\n",
       "      <td>0.0</td>\n",
       "      <td>0.0</td>\n",
       "      <td>0.0</td>\n",
       "      <td>0.0</td>\n",
       "      <td>0.00000</td>\n",
       "      <td>...</td>\n",
       "      <td>0.000000</td>\n",
       "      <td>0.00000</td>\n",
       "      <td>0.0</td>\n",
       "      <td>0.0</td>\n",
       "      <td>0.0</td>\n",
       "      <td>0.0</td>\n",
       "      <td>0.0</td>\n",
       "      <td>0.0</td>\n",
       "      <td>0.0</td>\n",
       "      <td>[صنم, ماروی, نے, میڈیا, گردش, کرنے, والی, زیاد...</td>\n",
       "    </tr>\n",
       "    <tr>\n",
       "      <th>...</th>\n",
       "      <td>...</td>\n",
       "      <td>...</td>\n",
       "      <td>...</td>\n",
       "      <td>...</td>\n",
       "      <td>...</td>\n",
       "      <td>...</td>\n",
       "      <td>...</td>\n",
       "      <td>...</td>\n",
       "      <td>...</td>\n",
       "      <td>...</td>\n",
       "      <td>...</td>\n",
       "      <td>...</td>\n",
       "      <td>...</td>\n",
       "      <td>...</td>\n",
       "      <td>...</td>\n",
       "      <td>...</td>\n",
       "      <td>...</td>\n",
       "      <td>...</td>\n",
       "      <td>...</td>\n",
       "      <td>...</td>\n",
       "      <td>...</td>\n",
       "    </tr>\n",
       "    <tr>\n",
       "      <th>9230</th>\n",
       "      <td>شاہین باغ، بریانی، گولیاں، پاکستان - یوگی آدتی...</td>\n",
       "      <td>1</td>\n",
       "      <td>82</td>\n",
       "      <td>شاہین باغ، بریانی، گولیاں، پاکستان یوگی آدتیہ ...</td>\n",
       "      <td>0.0</td>\n",
       "      <td>0.0</td>\n",
       "      <td>0.0</td>\n",
       "      <td>0.0</td>\n",
       "      <td>0.0</td>\n",
       "      <td>0.00000</td>\n",
       "      <td>...</td>\n",
       "      <td>0.000000</td>\n",
       "      <td>0.00000</td>\n",
       "      <td>0.0</td>\n",
       "      <td>0.0</td>\n",
       "      <td>0.0</td>\n",
       "      <td>0.0</td>\n",
       "      <td>0.0</td>\n",
       "      <td>0.0</td>\n",
       "      <td>0.0</td>\n",
       "      <td>[شاہین, باغ،, بریانی،, گولیاں،, پاکستان, یوگی,...</td>\n",
       "    </tr>\n",
       "    <tr>\n",
       "      <th>9231</th>\n",
       "      <td>بے روزگاری الاؤنس، کیش بیک اسکیمیں - کانگریس ن...</td>\n",
       "      <td>1</td>\n",
       "      <td>81</td>\n",
       "      <td>بے روزگاری الاؤنس، کیش بیک اسکیمیں کانگریس نے ...</td>\n",
       "      <td>0.0</td>\n",
       "      <td>0.0</td>\n",
       "      <td>0.0</td>\n",
       "      <td>0.0</td>\n",
       "      <td>0.0</td>\n",
       "      <td>0.00000</td>\n",
       "      <td>...</td>\n",
       "      <td>0.000000</td>\n",
       "      <td>0.00000</td>\n",
       "      <td>0.0</td>\n",
       "      <td>0.0</td>\n",
       "      <td>0.0</td>\n",
       "      <td>0.0</td>\n",
       "      <td>0.0</td>\n",
       "      <td>0.0</td>\n",
       "      <td>0.0</td>\n",
       "      <td>[بے, روزگاری, الاؤنس،, کیش, بیک, اسکیمیں, کانگ...</td>\n",
       "    </tr>\n",
       "    <tr>\n",
       "      <th>9232</th>\n",
       "      <td>چدمبرم نے بجٹ پر تنقید کی، حکومت کا کہنا ہے کہ...</td>\n",
       "      <td>1</td>\n",
       "      <td>83</td>\n",
       "      <td>چدمبرم نے بجٹ تنقید کی، حکومت کا کہنا سنگین می...</td>\n",
       "      <td>0.0</td>\n",
       "      <td>0.0</td>\n",
       "      <td>0.0</td>\n",
       "      <td>0.0</td>\n",
       "      <td>0.0</td>\n",
       "      <td>0.00000</td>\n",
       "      <td>...</td>\n",
       "      <td>0.000000</td>\n",
       "      <td>0.00000</td>\n",
       "      <td>0.0</td>\n",
       "      <td>0.0</td>\n",
       "      <td>0.0</td>\n",
       "      <td>0.0</td>\n",
       "      <td>0.0</td>\n",
       "      <td>0.0</td>\n",
       "      <td>0.0</td>\n",
       "      <td>[چدمبرم, نے, بجٹ, تنقید, کی،, حکومت, کا, کہنا,...</td>\n",
       "    </tr>\n",
       "    <tr>\n",
       "      <th>9233</th>\n",
       "      <td>نتیش نے بہار میں 16,443 کلومیٹر طویل انسانی زن...</td>\n",
       "      <td>1</td>\n",
       "      <td>98</td>\n",
       "      <td>نتیش نے بہار میں کلومیٹر طویل انسانی زنجیر قیا...</td>\n",
       "      <td>0.0</td>\n",
       "      <td>0.0</td>\n",
       "      <td>0.0</td>\n",
       "      <td>0.0</td>\n",
       "      <td>0.0</td>\n",
       "      <td>0.00000</td>\n",
       "      <td>...</td>\n",
       "      <td>0.000000</td>\n",
       "      <td>0.00000</td>\n",
       "      <td>0.0</td>\n",
       "      <td>0.0</td>\n",
       "      <td>0.0</td>\n",
       "      <td>0.0</td>\n",
       "      <td>0.0</td>\n",
       "      <td>0.0</td>\n",
       "      <td>0.0</td>\n",
       "      <td>[نتیش, نے, بہار, میں, کلومیٹر, طویل, انسانی, ز...</td>\n",
       "    </tr>\n",
       "    <tr>\n",
       "      <th>9234</th>\n",
       "      <td>کراچی: ’’صحیح وقت پر شادی کر لی ہوتی تو دونوں ...</td>\n",
       "      <td>1</td>\n",
       "      <td>325</td>\n",
       "      <td>کراچی صحیح وقت شادی کر دونوں اتنے اتنے بچے سرف...</td>\n",
       "      <td>0.0</td>\n",
       "      <td>0.0</td>\n",
       "      <td>0.0</td>\n",
       "      <td>0.0</td>\n",
       "      <td>0.0</td>\n",
       "      <td>0.00000</td>\n",
       "      <td>...</td>\n",
       "      <td>0.000000</td>\n",
       "      <td>0.00000</td>\n",
       "      <td>0.0</td>\n",
       "      <td>0.0</td>\n",
       "      <td>0.0</td>\n",
       "      <td>0.0</td>\n",
       "      <td>0.0</td>\n",
       "      <td>0.0</td>\n",
       "      <td>0.0</td>\n",
       "      <td>[کراچی, صحیح, وقت, شادی, کر, دونوں, اتنے, اتنے...</td>\n",
       "    </tr>\n",
       "  </tbody>\n",
       "</table>\n",
       "<p>9235 rows × 505 columns</p>\n",
       "</div>"
      ],
      "text/plain": [
       "                                             News Items  Label  Text Length  \\\n",
       "0     ٹی ٹی پی نے پنجاب حکومت کے ہیلی کاپٹر کے عملے ...      0           77   \n",
       "1             مارک زکربرگ سیاست میں آنے کا سوچ رہے ہیں۔      0           41   \n",
       "2        فریدہ جلال نے اپنی موت کی افواہوں پر تنقید کی۔      0           46   \n",
       "3     جعلی خبریں: پاپ اسٹار حدیقہ کیانی نے جعلی منشی...      0           90   \n",
       "4     صنم ماروی نے میڈیا پر گردش کرنے والی زیادتی او...      0           85   \n",
       "...                                                 ...    ...          ...   \n",
       "9230  شاہین باغ، بریانی، گولیاں، پاکستان - یوگی آدتی...      1           82   \n",
       "9231  بے روزگاری الاؤنس، کیش بیک اسکیمیں - کانگریس ن...      1           81   \n",
       "9232  چدمبرم نے بجٹ پر تنقید کی، حکومت کا کہنا ہے کہ...      1           83   \n",
       "9233  نتیش نے بہار میں 16,443 کلومیٹر طویل انسانی زن...      1           98   \n",
       "9234  کراچی: ’’صحیح وقت پر شادی کر لی ہوتی تو دونوں ...      1          325   \n",
       "\n",
       "                                             clean_text  آباد  آخری   آر  \\\n",
       "0     ٹی ٹی پی نے پنجاب حکومت ہیلی کاپٹر عملے کو یرغ...   0.0   0.0  0.0   \n",
       "1                 مارک زکربرگ سیاست میں آنے کا سوچ ہیں۔   0.0   0.0  0.0   \n",
       "2              فریدہ جلال نے اپنی موت افواہوں تنقید کی۔   0.0   0.0  0.0   \n",
       "3     جعلی خبریں پاپ اسٹار حدیقہ کیانی نے جعلی منشیا...   0.0   0.0  0.0   \n",
       "4     صنم ماروی نے میڈیا گردش کرنے والی زیادتی ڈکیتی...   0.0   0.0  0.0   \n",
       "...                                                 ...   ...   ...  ...   \n",
       "9230  شاہین باغ، بریانی، گولیاں، پاکستان یوگی آدتیہ ...   0.0   0.0  0.0   \n",
       "9231  بے روزگاری الاؤنس، کیش بیک اسکیمیں کانگریس نے ...   0.0   0.0  0.0   \n",
       "9232  چدمبرم نے بجٹ تنقید کی، حکومت کا کہنا سنگین می...   0.0   0.0  0.0   \n",
       "9233  نتیش نے بہار میں کلومیٹر طویل انسانی زنجیر قیا...   0.0   0.0  0.0   \n",
       "9234  کراچی صحیح وقت شادی کر دونوں اتنے اتنے بچے سرف...   0.0   0.0  0.0   \n",
       "\n",
       "      آغاز   آف      آنے  ...       ہیں       ہے   یا  یاد  یقین  یقینی   یو  \\\n",
       "0      0.0  0.0  0.00000  ...  0.000000  0.16828  0.0  0.0   0.0    0.0  0.0   \n",
       "1      0.0  0.0  0.58234  ...  0.350694  0.00000  0.0  0.0   0.0    0.0  0.0   \n",
       "2      0.0  0.0  0.00000  ...  0.000000  0.00000  0.0  0.0   0.0    0.0  0.0   \n",
       "3      0.0  0.0  0.00000  ...  0.000000  0.00000  0.0  0.0   0.0    0.0  0.0   \n",
       "4      0.0  0.0  0.00000  ...  0.000000  0.00000  0.0  0.0   0.0    0.0  0.0   \n",
       "...    ...  ...      ...  ...       ...      ...  ...  ...   ...    ...  ...   \n",
       "9230   0.0  0.0  0.00000  ...  0.000000  0.00000  0.0  0.0   0.0    0.0  0.0   \n",
       "9231   0.0  0.0  0.00000  ...  0.000000  0.00000  0.0  0.0   0.0    0.0  0.0   \n",
       "9232   0.0  0.0  0.00000  ...  0.000000  0.00000  0.0  0.0   0.0    0.0  0.0   \n",
       "9233   0.0  0.0  0.00000  ...  0.000000  0.00000  0.0  0.0   0.0    0.0  0.0   \n",
       "9234   0.0  0.0  0.00000  ...  0.000000  0.00000  0.0  0.0   0.0    0.0  0.0   \n",
       "\n",
       "      یونیورسٹی  یہاں                                             tokens  \n",
       "0           0.0   0.0  [ٹی, ٹی, پی, نے, پنجاب, حکومت, ہیلی, کاپٹر, عم...  \n",
       "1           0.0   0.0     [مارک, زکربرگ, سیاست, میں, آنے, کا, سوچ, ہیں۔]  \n",
       "2           0.0   0.0  [فریدہ, جلال, نے, اپنی, موت, افواہوں, تنقید, کی۔]  \n",
       "3           0.0   0.0  [جعلی, خبریں, پاپ, اسٹار, حدیقہ, کیانی, نے, جع...  \n",
       "4           0.0   0.0  [صنم, ماروی, نے, میڈیا, گردش, کرنے, والی, زیاد...  \n",
       "...         ...   ...                                                ...  \n",
       "9230        0.0   0.0  [شاہین, باغ،, بریانی،, گولیاں،, پاکستان, یوگی,...  \n",
       "9231        0.0   0.0  [بے, روزگاری, الاؤنس،, کیش, بیک, اسکیمیں, کانگ...  \n",
       "9232        0.0   0.0  [چدمبرم, نے, بجٹ, تنقید, کی،, حکومت, کا, کہنا,...  \n",
       "9233        0.0   0.0  [نتیش, نے, بہار, میں, کلومیٹر, طویل, انسانی, ز...  \n",
       "9234        0.0   0.0  [کراچی, صحیح, وقت, شادی, کر, دونوں, اتنے, اتنے...  \n",
       "\n",
       "[9235 rows x 505 columns]"
      ]
     },
     "execution_count": 48,
     "metadata": {},
     "output_type": "execute_result"
    }
   ],
   "source": [
    "df_cleaned#it has tf idf"
   ]
  },
  {
   "cell_type": "code",
   "execution_count": 49,
   "metadata": {
    "colab": {
     "base_uri": "https://localhost:8080/",
     "height": 70
    },
    "executionInfo": {
     "elapsed": 27,
     "status": "ok",
     "timestamp": 1744824614335,
     "user": {
      "displayName": "rameen butt",
      "userId": "00965946940138084277"
     },
     "user_tz": -300
    },
    "id": "imWTU73Ql2BS",
    "outputId": "5a6dfd2b-1044-421c-c6b5-06c299d59c17"
   },
   "outputs": [
    {
     "data": {
      "text/plain": [
       "'\\n2-Many machine learning algorithms allow you to adjust the class weight to\\ngive more importance to the minority class during training. This approach works well when resampling might\\nnot be ideal.\\nFor example, in Logistic Regression, Random Forests, or XGBoost, you can set class weights.\\n'"
      ]
     },
     "execution_count": 49,
     "metadata": {},
     "output_type": "execute_result"
    }
   ],
   "source": [
    "'''\n",
    "2-Many machine learning algorithms allow you to adjust the class weight to\n",
    "give more importance to the minority class during training. This approach works well when resampling might\n",
    "not be ideal.\n",
    "For example, in Logistic Regression, Random Forests, or XGBoost, you can set class weights.\n",
    "'''"
   ]
  },
  {
   "cell_type": "markdown",
   "metadata": {
    "id": "YE3-WQIZHIDQ"
   },
   "source": [
    "**Using RandomForestClassifier to get feature importance**\n",
    "**TF-IDF**"
   ]
  },
  {
   "cell_type": "code",
   "execution_count": 50,
   "metadata": {
    "colab": {
     "base_uri": "https://localhost:8080/",
     "height": 1000
    },
    "collapsed": true,
    "executionInfo": {
     "elapsed": 6455,
     "status": "ok",
     "timestamp": 1744983280834,
     "user": {
      "displayName": "rameen butt",
      "userId": "00965946940138084277"
     },
     "user_tz": -300
    },
    "id": "Q4-rlwzfmPSF",
    "outputId": "501f83af-baec-4ad1-ad35-209f798087d4"
   },
   "outputs": [
    {
     "name": "stderr",
     "output_type": "stream",
     "text": [
      "C:\\Users\\FAST.LAB12-PC11\\AppData\\Local\\Temp\\ipykernel_19760\\3379943456.py:19: UserWarning: Glyph 1729 (\\N{ARABIC LETTER HEH GOAL}) missing from font(s) DejaVu Sans.\n",
      "  plt.tight_layout()\n",
      "C:\\Users\\FAST.LAB12-PC11\\AppData\\Local\\Temp\\ipykernel_19760\\3379943456.py:19: UserWarning: Matplotlib currently does not support Arabic natively.\n",
      "  plt.tight_layout()\n",
      "C:\\Users\\FAST.LAB12-PC11\\AppData\\Local\\Temp\\ipykernel_19760\\3379943456.py:19: UserWarning: Glyph 1746 (\\N{ARABIC LETTER YEH BARREE}) missing from font(s) DejaVu Sans.\n",
      "  plt.tight_layout()\n",
      "C:\\Users\\FAST.LAB12-PC11\\AppData\\Roaming\\Python\\Python312\\site-packages\\IPython\\core\\pylabtools.py:170: UserWarning: Glyph 1729 (\\N{ARABIC LETTER HEH GOAL}) missing from font(s) DejaVu Sans.\n",
      "  fig.canvas.print_figure(bytes_io, **kw)\n",
      "C:\\Users\\FAST.LAB12-PC11\\AppData\\Roaming\\Python\\Python312\\site-packages\\IPython\\core\\pylabtools.py:170: UserWarning: Matplotlib currently does not support Arabic natively.\n",
      "  fig.canvas.print_figure(bytes_io, **kw)\n",
      "C:\\Users\\FAST.LAB12-PC11\\AppData\\Roaming\\Python\\Python312\\site-packages\\IPython\\core\\pylabtools.py:170: UserWarning: Glyph 1746 (\\N{ARABIC LETTER YEH BARREE}) missing from font(s) DejaVu Sans.\n",
      "  fig.canvas.print_figure(bytes_io, **kw)\n"
     ]
    },
    {
     "data": {
      "image/png": "[encoded data removed]",
      "text/plain": [
       "<Figure size 1000x800 with 1 Axes>"
      ]
     },
     "metadata": {},
     "output_type": "display_data"
    }
   ],
   "source": [
    "\n",
    "rf = RandomForestClassifier(n_estimators=100, random_state=42)\n",
    "rf.fit(X_resampled_tf, y_resampled)\n",
    "importance = rf.feature_importances_\n",
    "\n",
    "feature_names = tfidf_vectorizer.get_feature_names_out()\n",
    "\n",
    "#Sort top N important features\n",
    "top_n = 20\n",
    "indices = np.argsort(importance)[-top_n:]\n",
    "top_words = feature_names[indices]\n",
    "top_importances = importance[indices]\n",
    "\n",
    "\n",
    "plt.figure(figsize=(10, 8))\n",
    "plt.barh(top_words, top_importances, color='skyblue')\n",
    "plt.xlabel(\"Importance Score\")\n",
    "plt.title(\"Top 20 Important Urdu Words (TF-IDF + RandomForest)\")\n",
    "plt.gca().invert_yaxis()\n",
    "plt.tight_layout()\n",
    "plt.show()\n"
   ]
  },
  {
   "cell_type": "markdown",
   "metadata": {
    "id": "uI6SVDyWHQe2"
   },
   "source": [
    "**Using RandomForestClassifier to get feature importance word2vec**\n"
   ]
  },
  {
   "cell_type": "code",
   "execution_count": 51,
   "metadata": {
    "colab": {
     "base_uri": "https://localhost:8080/",
     "height": 807
    },
    "executionInfo": {
     "elapsed": 17888,
     "status": "ok",
     "timestamp": 1744983555667,
     "user": {
      "displayName": "rameen butt",
      "userId": "00965946940138084277"
     },
     "user_tz": -300
    },
    "id": "H-ttYGICHSof",
    "outputId": "72280b03-f446-45b5-c0f5-bcc37a72aa2b"
   },
   "outputs": [
    {
     "data": {
      "image/png": "[encoded data removed]",
      "text/plain": [
       "<Figure size 1000x800 with 1 Axes>"
      ]
     },
     "metadata": {},
     "output_type": "display_data"
    }
   ],
   "source": [
    "clf_w2v = RandomForestClassifier(n_estimators=100, random_state=42)\n",
    "clf_w2v.fit(X_resampled_w2v, y_resampled)\n",
    "importances_w2v = clf_w2v.feature_importances_\n",
    "\n",
    "#plot top 20 important features (vector values)\n",
    "top_n = 20\n",
    "indices = np.argsort(importances_w2v)[-top_n:]\n",
    "top_importances = importances_w2v[indices]\n",
    "feature_labels = [f\"{val:.4f}\" for val in top_importances]  # Label by values\n",
    "\n",
    "#Since produce numerical vectors, the features don’t map to actual words\n",
    "plt.figure(figsize=(10, 8))\n",
    "plt.barh(range(top_n), top_importances, color='lightcoral')\n",
    "plt.yticks(range(top_n), feature_labels)\n",
    "plt.xlabel(\"Importance Score\")\n",
    "plt.title(\"Top 20 Feature Importances (Word2Vec)\")\n",
    "plt.gca().invert_yaxis()\n",
    "plt.tight_layout()\n",
    "plt.show()\n"
   ]
  },
  {
   "cell_type": "markdown",
   "metadata": {
    "id": "1QI24B94HTY1"
   },
   "source": [
    "**Using RandomForestClassifier to get feature importance Bert**\n"
   ]
  },
  {
   "cell_type": "code",
   "execution_count": 52,
   "metadata": {
    "id": "z5IOGjHeHU1c"
   },
   "outputs": [
    {
     "data": {
      "image/png": "[encoded data removed]",
      "text/plain": [
       "<Figure size 1000x800 with 1 Axes>"
      ]
     },
     "metadata": {},
     "output_type": "display_data"
    }
   ],
   "source": [
    "clf_bert = RandomForestClassifier(n_estimators=100, random_state=42)\n",
    "clf_bert.fit(X_resampled_w2v, y_resampled)\n",
    "importances_bert = clf_bert.feature_importances_\n",
    "\n",
    "top_n = 20\n",
    "indices = np.argsort(importances_bert)[-top_n:]\n",
    "top_importances = importances_bert[indices]\n",
    "feature_labels = [f\"{val:.4f}\" for val in top_importances]\n",
    "#Since produce numerical vectors, the features don’t map to actual words\n",
    "plt.figure(figsize=(10, 8))\n",
    "plt.barh(range(top_n), top_importances, color='mediumseagreen')\n",
    "plt.yticks(range(top_n), feature_labels)\n",
    "plt.xlabel(\"Importance Score\")\n",
    "plt.title(\"Top 20 Feature Importances (BERT Embeddings)\")\n",
    "plt.gca().invert_yaxis()\n",
    "plt.tight_layout()\n",
    "plt.show()"
   ]
  },
  {
   "cell_type": "markdown",
   "metadata": {
    "id": "IXwCHonVqbXx"
   },
   "source": [
    "The DataFrame includes:\n",
    "\n",
    "The original and cleaned text.\n",
    "\n",
    "Corresponding lengths that reflect the cleaning.\n",
    "\n",
    "TF-IDF features represented as new columns."
   ]
  },
  {
   "cell_type": "markdown",
   "metadata": {
    "id": "_5c3QOYXqi9n"
   },
   "source": [
    "# **Model Implementation & Evaluation**\n"
   ]
  },
  {
   "cell_type": "code",
   "execution_count": 53,
   "metadata": {},
   "outputs": [
    {
     "name": "stdout",
     "output_type": "stream",
     "text": [
      "\n",
      "--- Splitting Data ---\n"
     ]
    }
   ],
   "source": [
    "from sklearn.preprocessing import StandardScaler\n",
    "\n",
    "# Utility to plot confusion matrix\n",
    "def plot_confusion_matrix(y_true, y_pred, title=\"Confusion Matrix\"):\n",
    "    cm = confusion_matrix(y_true, y_pred)\n",
    "    plt.figure(figsize=(5,4))\n",
    "    sns.heatmap(cm, annot=True, fmt=\"d\", cmap=\"Blues\", xticklabels=[\"FAKE\", \"TRUE\"], yticklabels=[\"FAKE\", \"TRUE\"])\n",
    "    plt.title(title)\n",
    "    plt.xlabel('Predicted')\n",
    "    plt.ylabel('Actual')\n",
    "    plt.show()\n",
    "\n",
    "# Split data\n",
    "print(\"\\n--- Splitting Data ---\")\n",
    "\n",
    "# TF-IDF\n",
    "X_train_tf, X_test_tf, y_train_tf, y_test_tf = train_test_split(\n",
    "    X_resampled_tf, y_resampled, test_size=0.2, random_state=42, stratify=y_resampled\n",
    ")\n",
    "\n",
    "# Word2Vec\n",
    "scaler_w2v = StandardScaler()\n",
    "X_w2v_scaled = scaler_w2v.fit_transform(X_resampled_w2v)\n",
    "X_train_w2v, X_test_w2v, y_train_w2v, y_test_w2v = train_test_split(\n",
    "    X_w2v_scaled, y_resampled, test_size=0.2, random_state=42, stratify=y_resampled\n",
    ")\n",
    "\n",
    "# BERT\n",
    "if X_resampled_bert is not None:\n",
    "    scaler_bert = StandardScaler()\n",
    "    X_bert_scaled = scaler_bert.fit_transform(X_resampled_bert)\n",
    "    X_train_bert, X_test_bert, y_train_bert, y_test_bert = train_test_split(\n",
    "        X_bert_scaled, y_resampled, test_size=0.2, random_state=42, stratify=y_resampled\n",
    "    )\n",
    "else:\n",
    "    X_train_bert, X_test_bert, y_train_bert, y_test_bert = None, None, None, None"
   ]
  },
  {
   "cell_type": "markdown",
   "metadata": {
    "id": "seLp-qJPJapr"
   },
   "source": [
    "# **MACHINE LEARNING MODELS**"
   ]
  },
  {
   "cell_type": "code",
   "execution_count": 54,
   "metadata": {},
   "outputs": [],
   "source": [
    "results = {}\n",
    "\n"
   ]
  },
  {
   "cell_type": "markdown",
   "metadata": {
    "id": "sfnXlRwL_EbT"
   },
   "source": [
    "# **USING TF-IDF**"
   ]
  },
  {
   "cell_type": "code",
   "execution_count": 55,
   "metadata": {
    "id": "i-PTGWRw9wmP"
   },
   "outputs": [],
   "source": [
    "X_train, X_test, y_train, y_test = train_test_split(X_resampled_tf, y_resampled, test_size=0.2, random_state=42)\n"
   ]
  },
  {
   "cell_type": "code",
   "execution_count": 56,
   "metadata": {
    "id": "yR3wGh44rJmM"
   },
   "outputs": [
    {
     "name": "stdout",
     "output_type": "stream",
     "text": [
      "              precision    recall  f1-score   support\n",
      "\n",
      "           0       0.87      0.83      0.85       929\n",
      "           1       0.84      0.88      0.86       926\n",
      "\n",
      "    accuracy                           0.85      1855\n",
      "   macro avg       0.85      0.85      0.85      1855\n",
      "weighted avg       0.85      0.85      0.85      1855\n",
      "\n"
     ]
    }
   ],
   "source": [
    "\n",
    "rf = RandomForestClassifier(n_estimators=100, random_state=42)\n",
    "rf.fit(X_train, y_train)\n",
    "y_pred = rf.predict(X_test)\n",
    "\n",
    "print(classification_report(y_test, y_pred))\n",
    "\n",
    "results['Random Forest'] = {\n",
    "    'Accuracy': accuracy_score(y_test, y_pred),\n",
    "    'F1-Score': f1_score(y_test, y_pred)\n",
    "}"
   ]
  },
  {
   "cell_type": "markdown",
   "metadata": {
    "id": "bJ9SYjV1JD8t"
   },
   "source": [
    "# **USING Word2VEC**"
   ]
  },
  {
   "cell_type": "code",
   "execution_count": 57,
   "metadata": {
    "id": "BmZAA2a8JQnu"
   },
   "outputs": [],
   "source": [
    "\n",
    "def logistic_regression_w2v():\n",
    "    print(\"\\n--- Logistic Regression (Word2Vec) ---\")\n",
    "    model = LogisticRegression(random_state=42, max_iter=5000)\n",
    "    model.fit(X_train_w2v, y_train_w2v)\n",
    "    y_pred = model.predict(X_test_w2v)\n",
    "    print(f\"Accuracy: {accuracy_score(y_test_w2v, y_pred):.4f}\")\n",
    "    print(classification_report(y_test_w2v, y_pred, target_names=[\"FAKE\", \"TRUE\"]))\n",
    "    plot_confusion_matrix(y_test_w2v, y_pred, title=\"Logistic Regression (W2V)\")\n",
    "    acc = accuracy_score(y_test_w2v, y_pred)\n",
    "    f1 = f1_score(y_test_w2v, y_pred)\n",
    "    results['Logistic Regression (W2V)'] = {'Accuracy': acc, 'F1-Score': f1}\n",
    "\n",
    "\n"
   ]
  },
  {
   "cell_type": "code",
   "execution_count": 58,
   "metadata": {},
   "outputs": [
    {
     "name": "stdout",
     "output_type": "stream",
     "text": [
      "\n",
      "--- Logistic Regression (Word2Vec) ---\n",
      "Accuracy: 0.7482\n",
      "              precision    recall  f1-score   support\n",
      "\n",
      "        FAKE       0.76      0.73      0.74       928\n",
      "        TRUE       0.74      0.76      0.75       927\n",
      "\n",
      "    accuracy                           0.75      1855\n",
      "   macro avg       0.75      0.75      0.75      1855\n",
      "weighted avg       0.75      0.75      0.75      1855\n",
      "\n"
     ]
    },
    {
     "data": {
      "image/png": "[encoded data removed]",
      "text/plain": [
       "<Figure size 500x400 with 2 Axes>"
      ]
     },
     "metadata": {},
     "output_type": "display_data"
    }
   ],
   "source": [
    "logistic_regression_w2v()"
   ]
  },
  {
   "cell_type": "markdown",
   "metadata": {
    "id": "BJIgU_EIJOvS"
   },
   "source": [
    "# **USING BERT**"
   ]
  },
  {
   "cell_type": "code",
   "execution_count": 59,
   "metadata": {},
   "outputs": [],
   "source": [
    "def svm_bert():\n",
    "    print(\"\\n--- SVM (BERT) ---\")\n",
    "    model = SVC(random_state=42)\n",
    "    model.fit(X_train_bert, y_train_bert)\n",
    "    y_pred = model.predict(X_test_bert)\n",
    "    \n",
    "    \n",
    "    acc = accuracy_score(y_test_bert, y_pred)\n",
    "    f1 = f1_score(y_test_bert, y_pred)\n",
    "    \n",
    "    print(f\"Accuracy: {acc:.4f}\")\n",
    "    print(classification_report(y_test_bert, y_pred, target_names=[\"FAKE\", \"TRUE\"]))\n",
    "    plot_confusion_matrix(y_test_bert, y_pred, title=\"SVM (BERT)\")\n",
    "    \n",
    "   \n",
    "    results['SVM (BERT)'] = {'Accuracy': acc, 'F1-Score': f1}"
   ]
  },
  {
   "cell_type": "code",
   "execution_count": 60,
   "metadata": {},
   "outputs": [
    {
     "name": "stdout",
     "output_type": "stream",
     "text": [
      "\n",
      "--- SVM (BERT) ---\n"
     ]
    },
    {
     "ename": "NameError",
     "evalue": "name 'SVC' is not defined",
     "output_type": "error",
     "traceback": [
      "\u001b[31m---------------------------------------------------------------------------\u001b[39m",
      "\u001b[31mNameError\u001b[39m                                 Traceback (most recent call last)",
      "\u001b[36mCell\u001b[39m\u001b[36m \u001b[39m\u001b[32mIn[60]\u001b[39m\u001b[32m, line 1\u001b[39m\n\u001b[32m----> \u001b[39m\u001b[32m1\u001b[39m \u001b[43msvm_bert\u001b[49m\u001b[43m(\u001b[49m\u001b[43m)\u001b[49m\n",
      "\u001b[36mCell\u001b[39m\u001b[36m \u001b[39m\u001b[32mIn[59]\u001b[39m\u001b[32m, line 3\u001b[39m, in \u001b[36msvm_bert\u001b[39m\u001b[34m()\u001b[39m\n\u001b[32m      1\u001b[39m \u001b[38;5;28;01mdef\u001b[39;00m\u001b[38;5;250m \u001b[39m\u001b[34msvm_bert\u001b[39m():\n\u001b[32m      2\u001b[39m     \u001b[38;5;28mprint\u001b[39m(\u001b[33m\"\u001b[39m\u001b[38;5;130;01m\\n\u001b[39;00m\u001b[33m--- SVM (BERT) ---\u001b[39m\u001b[33m\"\u001b[39m)\n\u001b[32m----> \u001b[39m\u001b[32m3\u001b[39m     model = \u001b[43mSVC\u001b[49m(random_state=\u001b[32m42\u001b[39m)\n\u001b[32m      4\u001b[39m     model.fit(X_train_bert, y_train_bert)\n\u001b[32m      5\u001b[39m     y_pred = model.predict(X_test_bert)\n",
      "\u001b[31mNameError\u001b[39m: name 'SVC' is not defined"
     ]
    }
   ],
   "source": [
    "svm_bert()"
   ]
  },
  {
   "cell_type": "markdown",
   "metadata": {
    "id": "rFyHujKmJk_F"
   },
   "source": [
    "# **DEEP LEARNING MODELS**"
   ]
  },
  {
   "cell_type": "markdown",
   "metadata": {
    "id": "_Y4O3kYXKFOU"
   },
   "source": [
    "# **USING TF-IDF**"
   ]
  },
  {
   "cell_type": "code",
   "execution_count": null,
   "metadata": {
    "id": "dLH4tQ4GLAXu"
   },
   "outputs": [],
   "source": [
    "from tensorflow.keras.models import Sequential\n",
    "from tensorflow.keras.layers import Dense, Dropout\n",
    "from tensorflow import keras\n",
    "from sklearn.metrics import accuracy_score, f1_score, classification_report\n",
    "\n",
    "def deep_learning_tf_idf():\n",
    "    print(\"\\n--- Deep Learning (TF-IDF) ---\")\n",
    "    \n",
    "    model = Sequential([\n",
    "        Dense(128, activation='relu', input_shape=(X_train_tf.shape[1],)),\n",
    "        Dropout(0.5),\n",
    "        Dense(64, activation='relu'),\n",
    "        Dropout(0.5),\n",
    "        Dense(1, activation='sigmoid')\n",
    "    ])\n",
    "    \n",
    "    model.compile(optimizer='adam', loss='binary_crossentropy', metrics=['accuracy'])\n",
    "    model.fit(X_train_tf, y_train_tf, epochs=10, batch_size=32, validation_split=0.2, verbose=1)\n",
    "    \n",
    "    y_pred_prob = model.predict(X_test_tf)\n",
    "    y_pred = (y_pred_prob > 0.5).astype(int).flatten()\n",
    "    \n",
    "    acc = accuracy_score(y_test_tf, y_pred)\n",
    "    f1 = f1_score(y_test_tf, y_pred)\n",
    "    \n",
    "    print(f\"Accuracy: {acc:.4f}\")\n",
    "    print(classification_report(y_test_tf, y_pred, target_names=[\"FAKE\", \"TRUE\"]))\n",
    "    plot_confusion_matrix(y_test_tf, y_pred, title=\"DL (TF-IDF)\")\n",
    "    \n",
    "    results['Deep Learning (TF-IDF)'] = {'Accuracy': acc, 'F1-Score': f1}\n"
   ]
  },
  {
   "cell_type": "code",
   "execution_count": null,
   "metadata": {},
   "outputs": [
    {
     "name": "stdout",
     "output_type": "stream",
     "text": [
      "\n",
      "--- Deep Learning (TF-IDF) ---\n",
      "Epoch 1/10\n"
     ]
    },
    {
     "name": "stderr",
     "output_type": "stream",
     "text": [
      "C:\\Users\\FAST.LAB12-PC11\\AppData\\Roaming\\Python\\Python312\\site-packages\\keras\\src\\layers\\core\\dense.py:87: UserWarning: Do not pass an `input_shape`/`input_dim` argument to a layer. When using Sequential models, prefer using an `Input(shape)` object as the first layer in the model instead.\n",
      "  super().__init__(activity_regularizer=activity_regularizer, **kwargs)\n"
     ]
    },
    {
     "name": "stdout",
     "output_type": "stream",
     "text": [
      "\u001b[1m186/186\u001b[0m \u001b[32m━━━━━━━━━━━━━━━━━━━━\u001b[0m\u001b[37m\u001b[0m \u001b[1m1s\u001b[0m 2ms/step - accuracy: 0.5917 - loss: 0.6654 - val_accuracy: 0.7817 - val_loss: 0.4649\n",
      "Epoch 2/10\n",
      "\u001b[1m186/186\u001b[0m \u001b[32m━━━━━━━━━━━━━━━━━━━━\u001b[0m\u001b[37m\u001b[0m \u001b[1m0s\u001b[0m 1ms/step - accuracy: 0.7819 - loss: 0.4634 - val_accuracy: 0.8106 - val_loss: 0.4198\n",
      "Epoch 3/10\n",
      "\u001b[1m186/186\u001b[0m \u001b[32m━━━━━━━━━━━━━━━━━━━━\u001b[0m\u001b[37m\u001b[0m \u001b[1m0s\u001b[0m 1ms/step - accuracy: 0.8283 - loss: 0.3792 - val_accuracy: 0.8046 - val_loss: 0.4197\n",
      "Epoch 4/10\n",
      "\u001b[1m186/186\u001b[0m \u001b[32m━━━━━━━━━━━━━━━━━━━━\u001b[0m\u001b[37m\u001b[0m \u001b[1m0s\u001b[0m 1ms/step - accuracy: 0.8513 - loss: 0.3520 - val_accuracy: 0.8133 - val_loss: 0.4072\n",
      "Epoch 5/10\n",
      "\u001b[1m186/186\u001b[0m \u001b[32m━━━━━━━━━━━━━━━━━━━━\u001b[0m\u001b[37m\u001b[0m \u001b[1m0s\u001b[0m 1ms/step - accuracy: 0.8766 - loss: 0.3017 - val_accuracy: 0.8147 - val_loss: 0.4106\n",
      "Epoch 6/10\n",
      "\u001b[1m186/186\u001b[0m \u001b[32m━━━━━━━━━━━━━━━━━━━━\u001b[0m\u001b[37m\u001b[0m \u001b[1m0s\u001b[0m 1ms/step - accuracy: 0.8945 - loss: 0.2726 - val_accuracy: 0.8201 - val_loss: 0.4202\n",
      "Epoch 7/10\n",
      "\u001b[1m186/186\u001b[0m \u001b[32m━━━━━━━━━━━━━━━━━━━━\u001b[0m\u001b[37m\u001b[0m \u001b[1m0s\u001b[0m 1ms/step - accuracy: 0.9086 - loss: 0.2299 - val_accuracy: 0.8194 - val_loss: 0.4196\n",
      "Epoch 8/10\n",
      "\u001b[1m186/186\u001b[0m \u001b[32m━━━━━━━━━━━━━━━━━━━━\u001b[0m\u001b[37m\u001b[0m \u001b[1m0s\u001b[0m 1ms/step - accuracy: 0.9291 - loss: 0.1981 - val_accuracy: 0.8208 - val_loss: 0.4302\n",
      "Epoch 9/10\n",
      "\u001b[1m186/186\u001b[0m \u001b[32m━━━━━━━━━━━━━━━━━━━━\u001b[0m\u001b[37m\u001b[0m \u001b[1m0s\u001b[0m 1ms/step - accuracy: 0.9437 - loss: 0.1613 - val_accuracy: 0.8235 - val_loss: 0.4453\n",
      "Epoch 10/10\n",
      "\u001b[1m186/186\u001b[0m \u001b[32m━━━━━━━━━━━━━━━━━━━━\u001b[0m\u001b[37m\u001b[0m \u001b[1m0s\u001b[0m 1ms/step - accuracy: 0.9432 - loss: 0.1471 - val_accuracy: 0.8214 - val_loss: 0.4674\n",
      "\u001b[1m58/58\u001b[0m \u001b[32m━━━━━━━━━━━━━━━━━━━━\u001b[0m\u001b[37m\u001b[0m \u001b[1m0s\u001b[0m 834us/step\n",
      "Accuracy: 0.8216\n",
      "              precision    recall  f1-score   support\n",
      "\n",
      "        FAKE       0.82      0.82      0.82       928\n",
      "        TRUE       0.82      0.82      0.82       927\n",
      "\n",
      "    accuracy                           0.82      1855\n",
      "   macro avg       0.82      0.82      0.82      1855\n",
      "weighted avg       0.82      0.82      0.82      1855\n",
      "\n"
     ]
    },
    {
     "data": {
      "image/png": "[encoded data removed]",
      "text/plain": [
       "<Figure size 500x400 with 2 Axes>"
      ]
     },
     "metadata": {},
     "output_type": "display_data"
    }
   ],
   "source": [
    "deep_learning_tf_idf()"
   ]
  },
  {
   "cell_type": "markdown",
   "metadata": {
    "id": "CgT034DrK8Eq"
   },
   "source": [
    "# **USING WORD2VEC**"
   ]
  },
  {
   "cell_type": "code",
   "execution_count": null,
   "metadata": {
    "id": "zpfnQTeTLA6h"
   },
   "outputs": [],
   "source": [
    "def deep_learning_w2v_lstm():\n",
    "    print(\"\\n--- Deep Learning (Word2Vec - LSTM) ---\")\n",
    "    \n",
    "    X_train_seq = X_train_w2v.reshape((X_train_w2v.shape[0], 1, X_train_w2v.shape[1]))\n",
    "    X_test_seq = X_test_w2v.reshape((X_test_w2v.shape[0], 1, X_test_w2v.shape[1]))\n",
    "\n",
    "    model = Sequential([\n",
    "        LSTM(64, return_sequences=True, input_shape=(1, X_train_w2v.shape[1])),\n",
    "        Dropout(0.5),\n",
    "        LSTM(32),\n",
    "        Dropout(0.5),\n",
    "        Dense(1, activation='sigmoid')\n",
    "    ])\n",
    "    \n",
    "    model.compile(optimizer='adam', loss='binary_crossentropy', metrics=['accuracy'])\n",
    "    model.fit(X_train_seq, y_train_w2v, epochs=15, batch_size=64, validation_split=0.2, verbose=1)\n",
    "    \n",
    "    y_pred_prob = model.predict(X_test_seq)\n",
    "    y_pred = (y_pred_prob > 0.5).astype(int).flatten()\n",
    "    \n",
    "    # Calculate metrics\n",
    "    acc = accuracy_score(y_test_w2v, y_pred)\n",
    "    f1 = f1_score(y_test_w2v, y_pred)\n",
    "    \n",
    "    print(f\"Accuracy: {acc:.4f}\")\n",
    "    print(classification_report(y_test_w2v, y_pred, target_names=[\"FAKE\", \"TRUE\"]))\n",
    "    plot_confusion_matrix(y_test_w2v, y_pred, title=\"DL (W2V - LSTM)\")\n",
    "    \n",
    "    # Save to results\n",
    "    results['Deep Learning (W2V-LSTM)'] = {'Accuracy': acc, 'F1-Score': f1}\n"
   ]
  },
  {
   "cell_type": "code",
   "execution_count": null,
   "metadata": {},
   "outputs": [
    {
     "name": "stdout",
     "output_type": "stream",
     "text": [
      "\n",
      "--- Deep Learning (Word2Vec - LSTM) ---\n",
      "Epoch 1/15\n"
     ]
    },
    {
     "name": "stderr",
     "output_type": "stream",
     "text": [
      "C:\\Users\\FAST.LAB12-PC11\\AppData\\Roaming\\Python\\Python312\\site-packages\\keras\\src\\layers\\rnn\\rnn.py:200: UserWarning: Do not pass an `input_shape`/`input_dim` argument to a layer. When using Sequential models, prefer using an `Input(shape)` object as the first layer in the model instead.\n",
      "  super().__init__(**kwargs)\n"
     ]
    },
    {
     "name": "stdout",
     "output_type": "stream",
     "text": [
      "\u001b[1m93/93\u001b[0m \u001b[32m━━━━━━━━━━━━━━━━━━━━\u001b[0m\u001b[37m\u001b[0m \u001b[1m2s\u001b[0m 4ms/step - accuracy: 0.5921 - loss: 0.6752 - val_accuracy: 0.6833 - val_loss: 0.6047\n",
      "Epoch 2/15\n",
      "\u001b[1m93/93\u001b[0m \u001b[32m━━━━━━━━━━━━━━━━━━━━\u001b[0m\u001b[37m\u001b[0m \u001b[1m0s\u001b[0m 2ms/step - accuracy: 0.6829 - loss: 0.5988 - val_accuracy: 0.7109 - val_loss: 0.5660\n",
      "Epoch 3/15\n",
      "\u001b[1m93/93\u001b[0m \u001b[32m━━━━━━━━━━━━━━━━━━━━\u001b[0m\u001b[37m\u001b[0m \u001b[1m0s\u001b[0m 2ms/step - accuracy: 0.7170 - loss: 0.5590 - val_accuracy: 0.7177 - val_loss: 0.5487\n",
      "Epoch 4/15\n",
      "\u001b[1m93/93\u001b[0m \u001b[32m━━━━━━━━━━━━━━━━━━━━\u001b[0m\u001b[37m\u001b[0m \u001b[1m0s\u001b[0m 2ms/step - accuracy: 0.7209 - loss: 0.5531 - val_accuracy: 0.7271 - val_loss: 0.5356\n",
      "Epoch 5/15\n",
      "\u001b[1m93/93\u001b[0m \u001b[32m━━━━━━━━━━━━━━━━━━━━\u001b[0m\u001b[37m\u001b[0m \u001b[1m0s\u001b[0m 2ms/step - accuracy: 0.7415 - loss: 0.5336 - val_accuracy: 0.7372 - val_loss: 0.5245\n",
      "Epoch 6/15\n",
      "\u001b[1m93/93\u001b[0m \u001b[32m━━━━━━━━━━━━━━━━━━━━\u001b[0m\u001b[37m\u001b[0m \u001b[1m0s\u001b[0m 2ms/step - accuracy: 0.7399 - loss: 0.5221 - val_accuracy: 0.7385 - val_loss: 0.5215\n",
      "Epoch 7/15\n",
      "\u001b[1m93/93\u001b[0m \u001b[32m━━━━━━━━━━━━━━━━━━━━\u001b[0m\u001b[37m\u001b[0m \u001b[1m0s\u001b[0m 2ms/step - accuracy: 0.7490 - loss: 0.5157 - val_accuracy: 0.7473 - val_loss: 0.5114\n",
      "Epoch 8/15\n",
      "\u001b[1m93/93\u001b[0m \u001b[32m━━━━━━━━━━━━━━━━━━━━\u001b[0m\u001b[37m\u001b[0m \u001b[1m0s\u001b[0m 2ms/step - accuracy: 0.7535 - loss: 0.5090 - val_accuracy: 0.7527 - val_loss: 0.5088\n",
      "Epoch 9/15\n",
      "\u001b[1m93/93\u001b[0m \u001b[32m━━━━━━━━━━━━━━━━━━━━\u001b[0m\u001b[37m\u001b[0m \u001b[1m0s\u001b[0m 2ms/step - accuracy: 0.7665 - loss: 0.4901 - val_accuracy: 0.7507 - val_loss: 0.5071\n",
      "Epoch 10/15\n",
      "\u001b[1m93/93\u001b[0m \u001b[32m━━━━━━━━━━━━━━━━━━━━\u001b[0m\u001b[37m\u001b[0m \u001b[1m0s\u001b[0m 2ms/step - accuracy: 0.7607 - loss: 0.4928 - val_accuracy: 0.7574 - val_loss: 0.5030\n",
      "Epoch 11/15\n",
      "\u001b[1m93/93\u001b[0m \u001b[32m━━━━━━━━━━━━━━━━━━━━\u001b[0m\u001b[37m\u001b[0m \u001b[1m0s\u001b[0m 2ms/step - accuracy: 0.7523 - loss: 0.4958 - val_accuracy: 0.7574 - val_loss: 0.4960\n",
      "Epoch 12/15\n",
      "\u001b[1m93/93\u001b[0m \u001b[32m━━━━━━━━━━━━━━━━━━━━\u001b[0m\u001b[37m\u001b[0m \u001b[1m0s\u001b[0m 2ms/step - accuracy: 0.7737 - loss: 0.4758 - val_accuracy: 0.7682 - val_loss: 0.4911\n",
      "Epoch 13/15\n",
      "\u001b[1m93/93\u001b[0m \u001b[32m━━━━━━━━━━━━━━━━━━━━\u001b[0m\u001b[37m\u001b[0m \u001b[1m0s\u001b[0m 2ms/step - accuracy: 0.7851 - loss: 0.4605 - val_accuracy: 0.7561 - val_loss: 0.4932\n",
      "Epoch 14/15\n",
      "\u001b[1m93/93\u001b[0m \u001b[32m━━━━━━━━━━━━━━━━━━━━\u001b[0m\u001b[37m\u001b[0m \u001b[1m0s\u001b[0m 2ms/step - accuracy: 0.7707 - loss: 0.4798 - val_accuracy: 0.7608 - val_loss: 0.4946\n",
      "Epoch 15/15\n",
      "\u001b[1m93/93\u001b[0m \u001b[32m━━━━━━━━━━━━━━━━━━━━\u001b[0m\u001b[37m\u001b[0m \u001b[1m0s\u001b[0m 2ms/step - accuracy: 0.7835 - loss: 0.4685 - val_accuracy: 0.7588 - val_loss: 0.4913\n",
      "\u001b[1m58/58\u001b[0m \u001b[32m━━━━━━━━━━━━━━━━━━━━\u001b[0m\u001b[37m\u001b[0m \u001b[1m0s\u001b[0m 3ms/step\n",
      "Accuracy: 0.7693\n",
      "              precision    recall  f1-score   support\n",
      "\n",
      "        FAKE       0.78      0.74      0.76       928\n",
      "        TRUE       0.76      0.79      0.77       927\n",
      "\n",
      "    accuracy                           0.77      1855\n",
      "   macro avg       0.77      0.77      0.77      1855\n",
      "weighted avg       0.77      0.77      0.77      1855\n",
      "\n"
     ]
    },
    {
     "data": {
      "image/png": "[encoded data removed]",
      "text/plain": [
       "<Figure size 500x400 with 2 Axes>"
      ]
     },
     "metadata": {},
     "output_type": "display_data"
    }
   ],
   "source": [
    "deep_learning_w2v_lstm()"
   ]
  },
  {
   "cell_type": "markdown",
   "metadata": {
    "id": "XdS8HXF5K-Dw"
   },
   "source": [
    "# **USING BERT**"
   ]
  },
  {
   "cell_type": "code",
   "execution_count": null,
   "metadata": {
    "id": "uyNcR3mqLBdl"
   },
   "outputs": [],
   "source": [
    "def deep_learning_bert():\n",
    "    if X_train_bert is None:\n",
    "        print(\"BERT data not available!\")\n",
    "        return\n",
    "\n",
    "    print(\"\\n--- Deep Learning (BERT) ---\")\n",
    "    \n",
    "    model = Sequential([\n",
    "        Dense(128, activation='relu', input_shape=(X_train_bert.shape[1],)),\n",
    "        Dropout(0.5),\n",
    "        Dense(64, activation='relu'),\n",
    "        Dropout(0.5),\n",
    "        Dense(1, activation='sigmoid')\n",
    "    ])\n",
    "    \n",
    "    model.compile(optimizer='adam', loss='binary_crossentropy', metrics=['accuracy'])\n",
    "    model.fit(X_train_bert, y_train_bert, epochs=10, batch_size=32, validation_split=0.2, verbose=1)\n",
    "    \n",
    "    y_pred_prob = model.predict(X_test_bert)\n",
    "    y_pred = (y_pred_prob > 0.5).astype(int).flatten()\n",
    "    \n",
    "    acc = accuracy_score(y_test_bert, y_pred)\n",
    "    f1 = f1_score(y_test_bert, y_pred)\n",
    "    \n",
    "    print(f\"Accuracy: {acc:.4f}\")\n",
    "    print(classification_report(y_test_bert, y_pred, target_names=[\"FAKE\", \"TRUE\"]))\n",
    "    plot_confusion_matrix(y_test_bert, y_pred, title=\"DL (BERT)\")\n",
    "    \n",
    "    results['Deep Learning (BERT)'] = {'Accuracy': acc, 'F1-Score': f1}\n"
   ]
  },
  {
   "cell_type": "code",
   "execution_count": null,
   "metadata": {},
   "outputs": [
    {
     "name": "stdout",
     "output_type": "stream",
     "text": [
      "\n",
      "--- Deep Learning (BERT) ---\n",
      "Epoch 1/10\n"
     ]
    },
    {
     "name": "stderr",
     "output_type": "stream",
     "text": [
      "C:\\Users\\FAST.LAB12-PC11\\AppData\\Roaming\\Python\\Python312\\site-packages\\keras\\src\\layers\\core\\dense.py:87: UserWarning: Do not pass an `input_shape`/`input_dim` argument to a layer. When using Sequential models, prefer using an `Input(shape)` object as the first layer in the model instead.\n",
      "  super().__init__(activity_regularizer=activity_regularizer, **kwargs)\n"
     ]
    },
    {
     "name": "stdout",
     "output_type": "stream",
     "text": [
      "\u001b[1m186/186\u001b[0m \u001b[32m━━━━━━━━━━━━━━━━━━━━\u001b[0m\u001b[37m\u001b[0m \u001b[1m1s\u001b[0m 2ms/step - accuracy: 0.6896 - loss: 0.6611 - val_accuracy: 0.8255 - val_loss: 0.3965\n",
      "Epoch 2/10\n",
      "\u001b[1m186/186\u001b[0m \u001b[32m━━━━━━━━━━━━━━━━━━━━\u001b[0m\u001b[37m\u001b[0m \u001b[1m0s\u001b[0m 1ms/step - accuracy: 0.8234 - loss: 0.4208 - val_accuracy: 0.8363 - val_loss: 0.3866\n",
      "Epoch 3/10\n",
      "\u001b[1m186/186\u001b[0m \u001b[32m━━━━━━━━━━━━━━━━━━━━\u001b[0m\u001b[37m\u001b[0m \u001b[1m0s\u001b[0m 1ms/step - accuracy: 0.8243 - loss: 0.4075 - val_accuracy: 0.8457 - val_loss: 0.3664\n",
      "Epoch 4/10\n",
      "\u001b[1m186/186\u001b[0m \u001b[32m━━━━━━━━━━━━━━━━━━━━\u001b[0m\u001b[37m\u001b[0m \u001b[1m0s\u001b[0m 1ms/step - accuracy: 0.8454 - loss: 0.3588 - val_accuracy: 0.8477 - val_loss: 0.3668\n",
      "Epoch 5/10\n",
      "\u001b[1m186/186\u001b[0m \u001b[32m━━━━━━━━━━━━━━━━━━━━\u001b[0m\u001b[37m\u001b[0m \u001b[1m0s\u001b[0m 1ms/step - accuracy: 0.8402 - loss: 0.3671 - val_accuracy: 0.8464 - val_loss: 0.3586\n",
      "Epoch 6/10\n",
      "\u001b[1m186/186\u001b[0m \u001b[32m━━━━━━━━━━━━━━━━━━━━\u001b[0m\u001b[37m\u001b[0m \u001b[1m0s\u001b[0m 1ms/step - accuracy: 0.8575 - loss: 0.3456 - val_accuracy: 0.8410 - val_loss: 0.3574\n",
      "Epoch 7/10\n",
      "\u001b[1m186/186\u001b[0m \u001b[32m━━━━━━━━━━━━━━━━━━━━\u001b[0m\u001b[37m\u001b[0m \u001b[1m0s\u001b[0m 1ms/step - accuracy: 0.8662 - loss: 0.3229 - val_accuracy: 0.8477 - val_loss: 0.3566\n",
      "Epoch 8/10\n",
      "\u001b[1m186/186\u001b[0m \u001b[32m━━━━━━━━━━━━━━━━━━━━\u001b[0m\u001b[37m\u001b[0m \u001b[1m0s\u001b[0m 1ms/step - accuracy: 0.8781 - loss: 0.2952 - val_accuracy: 0.8518 - val_loss: 0.3443\n",
      "Epoch 9/10\n",
      "\u001b[1m186/186\u001b[0m \u001b[32m━━━━━━━━━━━━━━━━━━━━\u001b[0m\u001b[37m\u001b[0m \u001b[1m0s\u001b[0m 1ms/step - accuracy: 0.8743 - loss: 0.3008 - val_accuracy: 0.8450 - val_loss: 0.3557\n",
      "Epoch 10/10\n",
      "\u001b[1m186/186\u001b[0m \u001b[32m━━━━━━━━━━━━━━━━━━━━\u001b[0m\u001b[37m\u001b[0m \u001b[1m0s\u001b[0m 1ms/step - accuracy: 0.8805 - loss: 0.2912 - val_accuracy: 0.8423 - val_loss: 0.3635\n",
      "\u001b[1m58/58\u001b[0m \u001b[32m━━━━━━━━━━━━━━━━━━━━\u001b[0m\u001b[37m\u001b[0m \u001b[1m0s\u001b[0m 825us/step\n",
      "Accuracy: 0.8625\n",
      "              precision    recall  f1-score   support\n",
      "\n",
      "        FAKE       0.89      0.83      0.86       928\n",
      "        TRUE       0.84      0.90      0.87       927\n",
      "\n",
      "    accuracy                           0.86      1855\n",
      "   macro avg       0.86      0.86      0.86      1855\n",
      "weighted avg       0.86      0.86      0.86      1855\n",
      "\n"
     ]
    },
    {
     "data": {
      "image/png": "[encoded data removed]",
      "text/plain": [
       "<Figure size 500x400 with 2 Axes>"
      ]
     },
     "metadata": {},
     "output_type": "display_data"
    }
   ],
   "source": [
    "deep_learning_bert()"
   ]
  },
  {
   "cell_type": "markdown",
   "metadata": {
    "id": "FJmjsJauqr84"
   },
   "source": [
    "# **Performance Metrics & Reporting**"
   ]
  },
  {
   "cell_type": "code",
   "execution_count": null,
   "metadata": {
    "id": "TqQBIvszrK3a"
   },
   "outputs": [
    {
     "name": "stdout",
     "output_type": "stream",
     "text": [
      "\n",
      "\n",
      "=== Model Comparison Summary ===\n",
      "Model                          Accuracy   F1-Score  \n",
      "--------------------------------------------------\n",
      "Random Forest                  0.5089    0.4919\n",
      "Logistic Regression (W2V)      0.7569    0.7620\n",
      "SVM (BERT)                     0.8798    0.8827\n",
      "Deep Learning (TF-IDF)         0.8216    0.8216\n",
      "Deep Learning (W2V-LSTM)       0.7693    0.7747\n",
      "Deep Learning (BERT)           0.8625    0.8668\n"
     ]
    },
    {
     "data": {
      "image/png": "[encoded data removed]",
      "text/plain": [
       "<Figure size 1200x600 with 1 Axes>"
      ]
     },
     "metadata": {},
     "output_type": "display_data"
    }
   ],
   "source": [
    "print(\"\\n\\n=== Model Comparison Summary ===\")\n",
    "print(\"{:<30} {:<10} {:<10}\".format('Model', 'Accuracy', 'F1-Score'))\n",
    "print(\"-\" * 50)\n",
    "for model_name, scores in results.items():\n",
    "    print(\"{:<30} {:.4f}    {:.4f}\".format(model_name, scores['Accuracy'], scores['F1-Score']))\n",
    "\n",
    "\n",
    "models = list(results.keys())\n",
    "accuracy_scores = [results[m]['Accuracy'] for m in models]\n",
    "f1_scores = [results[m]['F1-Score'] for m in models]\n",
    "\n",
    "x = range(len(models))\n",
    "\n",
    "\n",
    "plt.figure(figsize=(12,6))\n",
    "\n",
    "\n",
    "plt.bar(x, accuracy_scores, width=0.4, label='Accuracy', align='center', color='skyblue', edgecolor='black')\n",
    "\n",
    "\n",
    "plt.bar([i + 0.4 for i in x], f1_scores, width=0.4, label='F1 Score', align='center', color='lightcoral', edgecolor='black')\n",
    "\n",
    "for i, score in enumerate(accuracy_scores):\n",
    "    plt.text(i, score + 0.01, f'{score:.2f}', ha='center', va='bottom', fontsize=10)\n",
    "\n",
    "for i, score in enumerate(f1_scores):\n",
    "    plt.text(i + 0.4, score + 0.01, f'{score:.2f}', ha='center', va='bottom', fontsize=10)\n",
    "\n",
    "plt.xticks([i + 0.2 for i in x], models, rotation=45, ha='right')\n",
    "plt.ylabel('Score')\n",
    "plt.title('Model Performance Comparison', fontsize=16)\n",
    "plt.legend()\n",
    "\n",
    "\n",
    "plt.grid(axis='y', linestyle='--', alpha=0.7)\n",
    "\n",
    "plt.tight_layout()\n",
    "\n",
    "plt.show()\n"
   ]
  },
  {
   "cell_type": "code",
   "execution_count": null,
   "metadata": {},
   "outputs": [],
   "source": []
  }
 ],
 "metadata": {
  "colab": {
   "provenance": [
    {
     "file_id": "1aDwSWGqPgVM0np8MVcMuLTYKn703WnQi",
     "timestamp": 1744983637668
    },
    {
     "file_id": "1Ps7fMVuNMEDQind3j9ZJq5xDJHDkHFve",
     "timestamp": 1744815337963
    }
   ]
  },
  "kernelspec": {
   "display_name": "base",
   "language": "python",
   "name": "python3"
  },
  "language_info": {
   "codemirror_mode": {
    "name": "ipython",
    "version": 3
   },
   "file_extension": ".py",
   "mimetype": "text/x-python",
   "name": "python",
   "nbconvert_exporter": "python",
   "pygments_lexer": "ipython3",
   "version": "3.12.7"
  },
  "widgets": {
   "application/vnd.jupyter.widget-state+json": {
    "029a569d0621493aa29818b1881c814a": {
     "model_module": "@jupyter-widgets/controls",
     "model_module_version": "1.5.0",
     "model_name": "HBoxModel",
     "state": {
      "_dom_classes": [],
      "_model_module": "@jupyter-widgets/controls",
      "_model_module_version": "1.5.0",
      "_model_name": "HBoxModel",
      "_view_count": null,
      "_view_module": "@jupyter-widgets/controls",
      "_view_module_version": "1.5.0",
      "_view_name": "HBoxView",
      "box_style": "",
      "children": [
       "IPY_MODEL_4eb68793b5204f0f9bbbac3da71c8c65",
       "IPY_MODEL_8922998597254796b36dec3cfa9c0524",
       "IPY_MODEL_4a01fd5f6fbe4c4eab5e70dd885daf30"
      ],
      "layout": "IPY_MODEL_cd57276b5280402c93e1f6851ae0d899"
     }
    },
    "09bf587de671483cb84d7356f9eafc26": {
     "model_module": "@jupyter-widgets/base",
     "model_module_version": "1.2.0",
     "model_name": "LayoutModel",
     "state": {
      "_model_module": "@jupyter-widgets/base",
      "_model_module_version": "1.2.0",
      "_model_name": "LayoutModel",
      "_view_count": null,
      "_view_module": "@jupyter-widgets/base",
      "_view_module_version": "1.2.0",
      "_view_name": "LayoutView",
      "align_content": null,
      "align_items": null,
      "align_self": null,
      "border": null,
      "bottom": null,
      "display": null,
      "flex": null,
      "flex_flow": null,
      "grid_area": null,
      "grid_auto_columns": null,
      "grid_auto_flow": null,
      "grid_auto_rows": null,
      "grid_column": null,
      "grid_gap": null,
      "grid_row": null,
      "grid_template_areas": null,
      "grid_template_columns": null,
      "grid_template_rows": null,
      "height": null,
      "justify_content": null,
      "justify_items": null,
      "left": null,
      "margin": null,
      "max_height": null,
      "max_width": null,
      "min_height": null,
      "min_width": null,
      "object_fit": null,
      "object_position": null,
      "order": null,
      "overflow": null,
      "overflow_x": null,
      "overflow_y": null,
      "padding": null,
      "right": null,
      "top": null,
      "visibility": null,
      "width": null
     }
    },
    "0dcc50de30fd44369814ea23a8b1b4bf": {
     "model_module": "@jupyter-widgets/controls",
     "model_module_version": "1.5.0",
     "model_name": "DescriptionStyleModel",
     "state": {
      "_model_module": "@jupyter-widgets/controls",
      "_model_module_version": "1.5.0",
      "_model_name": "DescriptionStyleModel",
      "_view_count": null,
      "_view_module": "@jupyter-widgets/base",
      "_view_module_version": "1.2.0",
      "_view_name": "StyleView",
      "description_width": ""
     }
    },
    "0f2b96ed4db247f2b6bb452d0bab5682": {
     "model_module": "@jupyter-widgets/controls",
     "model_module_version": "1.5.0",
     "model_name": "ProgressStyleModel",
     "state": {
      "_model_module": "@jupyter-widgets/controls",
      "_model_module_version": "1.5.0",
      "_model_name": "ProgressStyleModel",
      "_view_count": null,
      "_view_module": "@jupyter-widgets/base",
      "_view_module_version": "1.2.0",
      "_view_name": "StyleView",
      "bar_color": null,
      "description_width": ""
     }
    },
    "1327e3b4fdf44790acc98f1bf66b5a3a": {
     "model_module": "@jupyter-widgets/controls",
     "model_module_version": "1.5.0",
     "model_name": "DescriptionStyleModel",
     "state": {
      "_model_module": "@jupyter-widgets/controls",
      "_model_module_version": "1.5.0",
      "_model_name": "DescriptionStyleModel",
      "_view_count": null,
      "_view_module": "@jupyter-widgets/base",
      "_view_module_version": "1.2.0",
      "_view_name": "StyleView",
      "description_width": ""
     }
    },
    "13d568a3c85b4428b63912121d817269": {
     "model_module": "@jupyter-widgets/base",
     "model_module_version": "1.2.0",
     "model_name": "LayoutModel",
     "state": {
      "_model_module": "@jupyter-widgets/base",
      "_model_module_version": "1.2.0",
      "_model_name": "LayoutModel",
      "_view_count": null,
      "_view_module": "@jupyter-widgets/base",
      "_view_module_version": "1.2.0",
      "_view_name": "LayoutView",
      "align_content": null,
      "align_items": null,
      "align_self": null,
      "border": null,
      "bottom": null,
      "display": null,
      "flex": null,
      "flex_flow": null,
      "grid_area": null,
      "grid_auto_columns": null,
      "grid_auto_flow": null,
      "grid_auto_rows": null,
      "grid_column": null,
      "grid_gap": null,
      "grid_row": null,
      "grid_template_areas": null,
      "grid_template_columns": null,
      "grid_template_rows": null,
      "height": null,
      "justify_content": null,
      "justify_items": null,
      "left": null,
      "margin": null,
      "max_height": null,
      "max_width": null,
      "min_height": null,
      "min_width": null,
      "object_fit": null,
      "object_position": null,
      "order": null,
      "overflow": null,
      "overflow_x": null,
      "overflow_y": null,
      "padding": null,
      "right": null,
      "top": null,
      "visibility": null,
      "width": null
     }
    },
    "14b2a2eab381413493075c8b0c51f203": {
     "model_module": "@jupyter-widgets/controls",
     "model_module_version": "1.5.0",
     "model_name": "HBoxModel",
     "state": {
      "_dom_classes": [],
      "_model_module": "@jupyter-widgets/controls",
      "_model_module_version": "1.5.0",
      "_model_name": "HBoxModel",
      "_view_count": null,
      "_view_module": "@jupyter-widgets/controls",
      "_view_module_version": "1.5.0",
      "_view_name": "HBoxView",
      "box_style": "",
      "children": [
       "IPY_MODEL_f0efcf24ce3b4e4f8686c79c36262ebc",
       "IPY_MODEL_94d4acee83274d978fb938194f9f7a17",
       "IPY_MODEL_aff6602476c147adb34bf41200fc7475"
      ],
      "layout": "IPY_MODEL_e833caa3f1824b25b2f45ff8aa24fae2"
     }
    },
    "16813f452e8b465687c4eede6b997836": {
     "model_module": "@jupyter-widgets/base",
     "model_module_version": "1.2.0",
     "model_name": "LayoutModel",
     "state": {
      "_model_module": "@jupyter-widgets/base",
      "_model_module_version": "1.2.0",
      "_model_name": "LayoutModel",
      "_view_count": null,
      "_view_module": "@jupyter-widgets/base",
      "_view_module_version": "1.2.0",
      "_view_name": "LayoutView",
      "align_content": null,
      "align_items": null,
      "align_self": null,
      "border": null,
      "bottom": null,
      "display": null,
      "flex": null,
      "flex_flow": null,
      "grid_area": null,
      "grid_auto_columns": null,
      "grid_auto_flow": null,
      "grid_auto_rows": null,
      "grid_column": null,
      "grid_gap": null,
      "grid_row": null,
      "grid_template_areas": null,
      "grid_template_columns": null,
      "grid_template_rows": null,
      "height": null,
      "justify_content": null,
      "justify_items": null,
      "left": null,
      "margin": null,
      "max_height": null,
      "max_width": null,
      "min_height": null,
      "min_width": null,
      "object_fit": null,
      "object_position": null,
      "order": null,
      "overflow": null,
      "overflow_x": null,
      "overflow_y": null,
      "padding": null,
      "right": null,
      "top": null,
      "visibility": null,
      "width": null
     }
    },
    "1e6f6960ca2a40b3991a873a5f589535": {
     "model_module": "@jupyter-widgets/controls",
     "model_module_version": "1.5.0",
     "model_name": "DescriptionStyleModel",
     "state": {
      "_model_module": "@jupyter-widgets/controls",
      "_model_module_version": "1.5.0",
      "_model_name": "DescriptionStyleModel",
      "_view_count": null,
      "_view_module": "@jupyter-widgets/base",
      "_view_module_version": "1.2.0",
      "_view_name": "StyleView",
      "description_width": ""
     }
    },
    "27a2f3c6a16445feb68900660444a5d7": {
     "model_module": "@jupyter-widgets/controls",
     "model_module_version": "1.5.0",
     "model_name": "HTMLModel",
     "state": {
      "_dom_classes": [],
      "_model_module": "@jupyter-widgets/controls",
      "_model_module_version": "1.5.0",
      "_model_name": "HTMLModel",
      "_view_count": null,
      "_view_module": "@jupyter-widgets/controls",
      "_view_module_version": "1.5.0",
      "_view_name": "HTMLView",
      "description": "",
      "description_tooltip": null,
      "layout": "IPY_MODEL_db98a13ee4ae446b9c9c845d6dc627c5",
      "placeholder": "​",
      "style": "IPY_MODEL_fbe20e99eaee4ad5ae131d6e5fb1aae3",
      "value": " 49.0/49.0 [00:00&lt;00:00, 1.36kB/s]"
     }
    },
    "2d3d3308f0de401a983f2bbc4ffcd665": {
     "model_module": "@jupyter-widgets/controls",
     "model_module_version": "1.5.0",
     "model_name": "HBoxModel",
     "state": {
      "_dom_classes": [],
      "_model_module": "@jupyter-widgets/controls",
      "_model_module_version": "1.5.0",
      "_model_name": "HBoxModel",
      "_view_count": null,
      "_view_module": "@jupyter-widgets/controls",
      "_view_module_version": "1.5.0",
      "_view_name": "HBoxView",
      "box_style": "",
      "children": [
       "IPY_MODEL_8e73f1bea1b04d639c71b3eddf946837",
       "IPY_MODEL_cb82719bff224095bd4ca5e6a321db0a",
       "IPY_MODEL_27a2f3c6a16445feb68900660444a5d7"
      ],
      "layout": "IPY_MODEL_40c0bccf719d49dfb1718b9fcbf356e7"
     }
    },
    "3b58df472666417dbca4c3ea77fb003e": {
     "model_module": "@jupyter-widgets/controls",
     "model_module_version": "1.5.0",
     "model_name": "DescriptionStyleModel",
     "state": {
      "_model_module": "@jupyter-widgets/controls",
      "_model_module_version": "1.5.0",
      "_model_name": "DescriptionStyleModel",
      "_view_count": null,
      "_view_module": "@jupyter-widgets/base",
      "_view_module_version": "1.2.0",
      "_view_name": "StyleView",
      "description_width": ""
     }
    },
    "40c0bccf719d49dfb1718b9fcbf356e7": {
     "model_module": "@jupyter-widgets/base",
     "model_module_version": "1.2.0",
     "model_name": "LayoutModel",
     "state": {
      "_model_module": "@jupyter-widgets/base",
      "_model_module_version": "1.2.0",
      "_model_name": "LayoutModel",
      "_view_count": null,
      "_view_module": "@jupyter-widgets/base",
      "_view_module_version": "1.2.0",
      "_view_name": "LayoutView",
      "align_content": null,
      "align_items": null,
      "align_self": null,
      "border": null,
      "bottom": null,
      "display": null,
      "flex": null,
      "flex_flow": null,
      "grid_area": null,
      "grid_auto_columns": null,
      "grid_auto_flow": null,
      "grid_auto_rows": null,
      "grid_column": null,
      "grid_gap": null,
      "grid_row": null,
      "grid_template_areas": null,
      "grid_template_columns": null,
      "grid_template_rows": null,
      "height": null,
      "justify_content": null,
      "justify_items": null,
      "left": null,
      "margin": null,
      "max_height": null,
      "max_width": null,
      "min_height": null,
      "min_width": null,
      "object_fit": null,
      "object_position": null,
      "order": null,
      "overflow": null,
      "overflow_x": null,
      "overflow_y": null,
      "padding": null,
      "right": null,
      "top": null,
      "visibility": null,
      "width": null
     }
    },
    "45edb8fc16d34dfca96944e6c80251bd": {
     "model_module": "@jupyter-widgets/base",
     "model_module_version": "1.2.0",
     "model_name": "LayoutModel",
     "state": {
      "_model_module": "@jupyter-widgets/base",
      "_model_module_version": "1.2.0",
      "_model_name": "LayoutModel",
      "_view_count": null,
      "_view_module": "@jupyter-widgets/base",
      "_view_module_version": "1.2.0",
      "_view_name": "LayoutView",
      "align_content": null,
      "align_items": null,
      "align_self": null,
      "border": null,
      "bottom": null,
      "display": null,
      "flex": null,
      "flex_flow": null,
      "grid_area": null,
      "grid_auto_columns": null,
      "grid_auto_flow": null,
      "grid_auto_rows": null,
      "grid_column": null,
      "grid_gap": null,
      "grid_row": null,
      "grid_template_areas": null,
      "grid_template_columns": null,
      "grid_template_rows": null,
      "height": null,
      "justify_content": null,
      "justify_items": null,
      "left": null,
      "margin": null,
      "max_height": null,
      "max_width": null,
      "min_height": null,
      "min_width": null,
      "object_fit": null,
      "object_position": null,
      "order": null,
      "overflow": null,
      "overflow_x": null,
      "overflow_y": null,
      "padding": null,
      "right": null,
      "top": null,
      "visibility": null,
      "width": null
     }
    },
    "486b4a292e764e8ea26d5c12268bd351": {
     "model_module": "@jupyter-widgets/base",
     "model_module_version": "1.2.0",
     "model_name": "LayoutModel",
     "state": {
      "_model_module": "@jupyter-widgets/base",
      "_model_module_version": "1.2.0",
      "_model_name": "LayoutModel",
      "_view_count": null,
      "_view_module": "@jupyter-widgets/base",
      "_view_module_version": "1.2.0",
      "_view_name": "LayoutView",
      "align_content": null,
      "align_items": null,
      "align_self": null,
      "border": null,
      "bottom": null,
      "display": null,
      "flex": null,
      "flex_flow": null,
      "grid_area": null,
      "grid_auto_columns": null,
      "grid_auto_flow": null,
      "grid_auto_rows": null,
      "grid_column": null,
      "grid_gap": null,
      "grid_row": null,
      "grid_template_areas": null,
      "grid_template_columns": null,
      "grid_template_rows": null,
      "height": null,
      "justify_content": null,
      "justify_items": null,
      "left": null,
      "margin": null,
      "max_height": null,
      "max_width": null,
      "min_height": null,
      "min_width": null,
      "object_fit": null,
      "object_position": null,
      "order": null,
      "overflow": null,
      "overflow_x": null,
      "overflow_y": null,
      "padding": null,
      "right": null,
      "top": null,
      "visibility": null,
      "width": null
     }
    },
    "4a01fd5f6fbe4c4eab5e70dd885daf30": {
     "model_module": "@jupyter-widgets/controls",
     "model_module_version": "1.5.0",
     "model_name": "HTMLModel",
     "state": {
      "_dom_classes": [],
      "_model_module": "@jupyter-widgets/controls",
      "_model_module_version": "1.5.0",
      "_model_name": "HTMLModel",
      "_view_count": null,
      "_view_module": "@jupyter-widgets/controls",
      "_view_module_version": "1.5.0",
      "_view_name": "HTMLView",
      "description": "",
      "description_tooltip": null,
      "layout": "IPY_MODEL_b3f651062b05426a855851bd565a59f9",
      "placeholder": "​",
      "style": "IPY_MODEL_b1ece3a041e841f5ad3f4addffc48773",
      "value": " 714M/714M [00:08&lt;00:00, 83.0MB/s]"
     }
    },
    "4b4e2ce6385042e4a01bda79f8c5df45": {
     "model_module": "@jupyter-widgets/base",
     "model_module_version": "1.2.0",
     "model_name": "LayoutModel",
     "state": {
      "_model_module": "@jupyter-widgets/base",
      "_model_module_version": "1.2.0",
      "_model_name": "LayoutModel",
      "_view_count": null,
      "_view_module": "@jupyter-widgets/base",
      "_view_module_version": "1.2.0",
      "_view_name": "LayoutView",
      "align_content": null,
      "align_items": null,
      "align_self": null,
      "border": null,
      "bottom": null,
      "display": null,
      "flex": null,
      "flex_flow": null,
      "grid_area": null,
      "grid_auto_columns": null,
      "grid_auto_flow": null,
      "grid_auto_rows": null,
      "grid_column": null,
      "grid_gap": null,
      "grid_row": null,
      "grid_template_areas": null,
      "grid_template_columns": null,
      "grid_template_rows": null,
      "height": null,
      "justify_content": null,
      "justify_items": null,
      "left": null,
      "margin": null,
      "max_height": null,
      "max_width": null,
      "min_height": null,
      "min_width": null,
      "object_fit": null,
      "object_position": null,
      "order": null,
      "overflow": null,
      "overflow_x": null,
      "overflow_y": null,
      "padding": null,
      "right": null,
      "top": null,
      "visibility": null,
      "width": null
     }
    },
    "4eb68793b5204f0f9bbbac3da71c8c65": {
     "model_module": "@jupyter-widgets/controls",
     "model_module_version": "1.5.0",
     "model_name": "HTMLModel",
     "state": {
      "_dom_classes": [],
      "_model_module": "@jupyter-widgets/controls",
      "_model_module_version": "1.5.0",
      "_model_name": "HTMLModel",
      "_view_count": null,
      "_view_module": "@jupyter-widgets/controls",
      "_view_module_version": "1.5.0",
      "_view_name": "HTMLView",
      "description": "",
      "description_tooltip": null,
      "layout": "IPY_MODEL_b16b653d8e6d4cbcb402ebbfb68193f2",
      "placeholder": "​",
      "style": "IPY_MODEL_1e6f6960ca2a40b3991a873a5f589535",
      "value": "model.safetensors: 100%"
     }
    },
    "5083c4d5e633466598867a893a3b3d87": {
     "model_module": "@jupyter-widgets/controls",
     "model_module_version": "1.5.0",
     "model_name": "ProgressStyleModel",
     "state": {
      "_model_module": "@jupyter-widgets/controls",
      "_model_module_version": "1.5.0",
      "_model_name": "ProgressStyleModel",
      "_view_count": null,
      "_view_module": "@jupyter-widgets/base",
      "_view_module_version": "1.2.0",
      "_view_name": "StyleView",
      "bar_color": null,
      "description_width": ""
     }
    },
    "55537c3ec54b44a89576820136cea01f": {
     "model_module": "@jupyter-widgets/controls",
     "model_module_version": "1.5.0",
     "model_name": "HTMLModel",
     "state": {
      "_dom_classes": [],
      "_model_module": "@jupyter-widgets/controls",
      "_model_module_version": "1.5.0",
      "_model_name": "HTMLModel",
      "_view_count": null,
      "_view_module": "@jupyter-widgets/controls",
      "_view_module_version": "1.5.0",
      "_view_name": "HTMLView",
      "description": "",
      "description_tooltip": null,
      "layout": "IPY_MODEL_71236794a98640c49dd0fd90b3caecc9",
      "placeholder": "​",
      "style": "IPY_MODEL_6fc157d954234e7dbd6ae91342ccb709",
      "value": " 996k/996k [00:00&lt;00:00, 4.48MB/s]"
     }
    },
    "5d649af8175140c5a539d65810361531": {
     "model_module": "@jupyter-widgets/base",
     "model_module_version": "1.2.0",
     "model_name": "LayoutModel",
     "state": {
      "_model_module": "@jupyter-widgets/base",
      "_model_module_version": "1.2.0",
      "_model_name": "LayoutModel",
      "_view_count": null,
      "_view_module": "@jupyter-widgets/base",
      "_view_module_version": "1.2.0",
      "_view_name": "LayoutView",
      "align_content": null,
      "align_items": null,
      "align_self": null,
      "border": null,
      "bottom": null,
      "display": null,
      "flex": null,
      "flex_flow": null,
      "grid_area": null,
      "grid_auto_columns": null,
      "grid_auto_flow": null,
      "grid_auto_rows": null,
      "grid_column": null,
      "grid_gap": null,
      "grid_row": null,
      "grid_template_areas": null,
      "grid_template_columns": null,
      "grid_template_rows": null,
      "height": null,
      "justify_content": null,
      "justify_items": null,
      "left": null,
      "margin": null,
      "max_height": null,
      "max_width": null,
      "min_height": null,
      "min_width": null,
      "object_fit": null,
      "object_position": null,
      "order": null,
      "overflow": null,
      "overflow_x": null,
      "overflow_y": null,
      "padding": null,
      "right": null,
      "top": null,
      "visibility": null,
      "width": null
     }
    },
    "6832a37fec344079b2740e0686657aab": {
     "model_module": "@jupyter-widgets/controls",
     "model_module_version": "1.5.0",
     "model_name": "ProgressStyleModel",
     "state": {
      "_model_module": "@jupyter-widgets/controls",
      "_model_module_version": "1.5.0",
      "_model_name": "ProgressStyleModel",
      "_view_count": null,
      "_view_module": "@jupyter-widgets/base",
      "_view_module_version": "1.2.0",
      "_view_name": "StyleView",
      "bar_color": null,
      "description_width": ""
     }
    },
    "6fc157d954234e7dbd6ae91342ccb709": {
     "model_module": "@jupyter-widgets/controls",
     "model_module_version": "1.5.0",
     "model_name": "DescriptionStyleModel",
     "state": {
      "_model_module": "@jupyter-widgets/controls",
      "_model_module_version": "1.5.0",
      "_model_name": "DescriptionStyleModel",
      "_view_count": null,
      "_view_module": "@jupyter-widgets/base",
      "_view_module_version": "1.2.0",
      "_view_name": "StyleView",
      "description_width": ""
     }
    },
    "71236794a98640c49dd0fd90b3caecc9": {
     "model_module": "@jupyter-widgets/base",
     "model_module_version": "1.2.0",
     "model_name": "LayoutModel",
     "state": {
      "_model_module": "@jupyter-widgets/base",
      "_model_module_version": "1.2.0",
      "_model_name": "LayoutModel",
      "_view_count": null,
      "_view_module": "@jupyter-widgets/base",
      "_view_module_version": "1.2.0",
      "_view_name": "LayoutView",
      "align_content": null,
      "align_items": null,
      "align_self": null,
      "border": null,
      "bottom": null,
      "display": null,
      "flex": null,
      "flex_flow": null,
      "grid_area": null,
      "grid_auto_columns": null,
      "grid_auto_flow": null,
      "grid_auto_rows": null,
      "grid_column": null,
      "grid_gap": null,
      "grid_row": null,
      "grid_template_areas": null,
      "grid_template_columns": null,
      "grid_template_rows": null,
      "height": null,
      "justify_content": null,
      "justify_items": null,
      "left": null,
      "margin": null,
      "max_height": null,
      "max_width": null,
      "min_height": null,
      "min_width": null,
      "object_fit": null,
      "object_position": null,
      "order": null,
      "overflow": null,
      "overflow_x": null,
      "overflow_y": null,
      "padding": null,
      "right": null,
      "top": null,
      "visibility": null,
      "width": null
     }
    },
    "7fb4cfd8f5ba4462b6a147957ea59587": {
     "model_module": "@jupyter-widgets/controls",
     "model_module_version": "1.5.0",
     "model_name": "HTMLModel",
     "state": {
      "_dom_classes": [],
      "_model_module": "@jupyter-widgets/controls",
      "_model_module_version": "1.5.0",
      "_model_name": "HTMLModel",
      "_view_count": null,
      "_view_module": "@jupyter-widgets/controls",
      "_view_module_version": "1.5.0",
      "_view_name": "HTMLView",
      "description": "",
      "description_tooltip": null,
      "layout": "IPY_MODEL_16813f452e8b465687c4eede6b997836",
      "placeholder": "​",
      "style": "IPY_MODEL_9a8761edb16a4494b5b427f6d135baf3",
      "value": "tokenizer.json: 100%"
     }
    },
    "89207e54b98940b09d65b24f0635ff22": {
     "model_module": "@jupyter-widgets/base",
     "model_module_version": "1.2.0",
     "model_name": "LayoutModel",
     "state": {
      "_model_module": "@jupyter-widgets/base",
      "_model_module_version": "1.2.0",
      "_model_name": "LayoutModel",
      "_view_count": null,
      "_view_module": "@jupyter-widgets/base",
      "_view_module_version": "1.2.0",
      "_view_name": "LayoutView",
      "align_content": null,
      "align_items": null,
      "align_self": null,
      "border": null,
      "bottom": null,
      "display": null,
      "flex": null,
      "flex_flow": null,
      "grid_area": null,
      "grid_auto_columns": null,
      "grid_auto_flow": null,
      "grid_auto_rows": null,
      "grid_column": null,
      "grid_gap": null,
      "grid_row": null,
      "grid_template_areas": null,
      "grid_template_columns": null,
      "grid_template_rows": null,
      "height": null,
      "justify_content": null,
      "justify_items": null,
      "left": null,
      "margin": null,
      "max_height": null,
      "max_width": null,
      "min_height": null,
      "min_width": null,
      "object_fit": null,
      "object_position": null,
      "order": null,
      "overflow": null,
      "overflow_x": null,
      "overflow_y": null,
      "padding": null,
      "right": null,
      "top": null,
      "visibility": null,
      "width": null
     }
    },
    "8922998597254796b36dec3cfa9c0524": {
     "model_module": "@jupyter-widgets/controls",
     "model_module_version": "1.5.0",
     "model_name": "FloatProgressModel",
     "state": {
      "_dom_classes": [],
      "_model_module": "@jupyter-widgets/controls",
      "_model_module_version": "1.5.0",
      "_model_name": "FloatProgressModel",
      "_view_count": null,
      "_view_module": "@jupyter-widgets/controls",
      "_view_module_version": "1.5.0",
      "_view_name": "ProgressView",
      "bar_style": "success",
      "description": "",
      "description_tooltip": null,
      "layout": "IPY_MODEL_4b4e2ce6385042e4a01bda79f8c5df45",
      "max": 714290682,
      "min": 0,
      "orientation": "horizontal",
      "style": "IPY_MODEL_5083c4d5e633466598867a893a3b3d87",
      "value": 714290682
     }
    },
    "8e73f1bea1b04d639c71b3eddf946837": {
     "model_module": "@jupyter-widgets/controls",
     "model_module_version": "1.5.0",
     "model_name": "HTMLModel",
     "state": {
      "_dom_classes": [],
      "_model_module": "@jupyter-widgets/controls",
      "_model_module_version": "1.5.0",
      "_model_name": "HTMLModel",
      "_view_count": null,
      "_view_module": "@jupyter-widgets/controls",
      "_view_module_version": "1.5.0",
      "_view_name": "HTMLView",
      "description": "",
      "description_tooltip": null,
      "layout": "IPY_MODEL_13d568a3c85b4428b63912121d817269",
      "placeholder": "​",
      "style": "IPY_MODEL_1327e3b4fdf44790acc98f1bf66b5a3a",
      "value": "tokenizer_config.json: 100%"
     }
    },
    "94d4acee83274d978fb938194f9f7a17": {
     "model_module": "@jupyter-widgets/controls",
     "model_module_version": "1.5.0",
     "model_name": "FloatProgressModel",
     "state": {
      "_dom_classes": [],
      "_model_module": "@jupyter-widgets/controls",
      "_model_module_version": "1.5.0",
      "_model_name": "FloatProgressModel",
      "_view_count": null,
      "_view_module": "@jupyter-widgets/controls",
      "_view_module_version": "1.5.0",
      "_view_name": "ProgressView",
      "bar_style": "success",
      "description": "",
      "description_tooltip": null,
      "layout": "IPY_MODEL_486b4a292e764e8ea26d5c12268bd351",
      "max": 625,
      "min": 0,
      "orientation": "horizontal",
      "style": "IPY_MODEL_6832a37fec344079b2740e0686657aab",
      "value": 625
     }
    },
    "953b577e24d94f5d9be6f8017050adc5": {
     "model_module": "@jupyter-widgets/controls",
     "model_module_version": "1.5.0",
     "model_name": "FloatProgressModel",
     "state": {
      "_dom_classes": [],
      "_model_module": "@jupyter-widgets/controls",
      "_model_module_version": "1.5.0",
      "_model_name": "FloatProgressModel",
      "_view_count": null,
      "_view_module": "@jupyter-widgets/controls",
      "_view_module_version": "1.5.0",
      "_view_name": "ProgressView",
      "bar_style": "success",
      "description": "",
      "description_tooltip": null,
      "layout": "IPY_MODEL_09bf587de671483cb84d7356f9eafc26",
      "max": 1961828,
      "min": 0,
      "orientation": "horizontal",
      "style": "IPY_MODEL_c7eab0ad5aec429495f98433df3bb48b",
      "value": 1961828
     }
    },
    "9a8761edb16a4494b5b427f6d135baf3": {
     "model_module": "@jupyter-widgets/controls",
     "model_module_version": "1.5.0",
     "model_name": "DescriptionStyleModel",
     "state": {
      "_model_module": "@jupyter-widgets/controls",
      "_model_module_version": "1.5.0",
      "_model_name": "DescriptionStyleModel",
      "_view_count": null,
      "_view_module": "@jupyter-widgets/base",
      "_view_module_version": "1.2.0",
      "_view_name": "StyleView",
      "description_width": ""
     }
    },
    "a1b2aaf1b4c74bcfaf9574ae3ad5c2f3": {
     "model_module": "@jupyter-widgets/base",
     "model_module_version": "1.2.0",
     "model_name": "LayoutModel",
     "state": {
      "_model_module": "@jupyter-widgets/base",
      "_model_module_version": "1.2.0",
      "_model_name": "LayoutModel",
      "_view_count": null,
      "_view_module": "@jupyter-widgets/base",
      "_view_module_version": "1.2.0",
      "_view_name": "LayoutView",
      "align_content": null,
      "align_items": null,
      "align_self": null,
      "border": null,
      "bottom": null,
      "display": null,
      "flex": null,
      "flex_flow": null,
      "grid_area": null,
      "grid_auto_columns": null,
      "grid_auto_flow": null,
      "grid_auto_rows": null,
      "grid_column": null,
      "grid_gap": null,
      "grid_row": null,
      "grid_template_areas": null,
      "grid_template_columns": null,
      "grid_template_rows": null,
      "height": null,
      "justify_content": null,
      "justify_items": null,
      "left": null,
      "margin": null,
      "max_height": null,
      "max_width": null,
      "min_height": null,
      "min_width": null,
      "object_fit": null,
      "object_position": null,
      "order": null,
      "overflow": null,
      "overflow_x": null,
      "overflow_y": null,
      "padding": null,
      "right": null,
      "top": null,
      "visibility": null,
      "width": null
     }
    },
    "aff6602476c147adb34bf41200fc7475": {
     "model_module": "@jupyter-widgets/controls",
     "model_module_version": "1.5.0",
     "model_name": "HTMLModel",
     "state": {
      "_dom_classes": [],
      "_model_module": "@jupyter-widgets/controls",
      "_model_module_version": "1.5.0",
      "_model_name": "HTMLModel",
      "_view_count": null,
      "_view_module": "@jupyter-widgets/controls",
      "_view_module_version": "1.5.0",
      "_view_name": "HTMLView",
      "description": "",
      "description_tooltip": null,
      "layout": "IPY_MODEL_b283524e8820485b8ce31c047651031a",
      "placeholder": "​",
      "style": "IPY_MODEL_0dcc50de30fd44369814ea23a8b1b4bf",
      "value": " 625/625 [00:00&lt;00:00, 32.3kB/s]"
     }
    },
    "b16b653d8e6d4cbcb402ebbfb68193f2": {
     "model_module": "@jupyter-widgets/base",
     "model_module_version": "1.2.0",
     "model_name": "LayoutModel",
     "state": {
      "_model_module": "@jupyter-widgets/base",
      "_model_module_version": "1.2.0",
      "_model_name": "LayoutModel",
      "_view_count": null,
      "_view_module": "@jupyter-widgets/base",
      "_view_module_version": "1.2.0",
      "_view_name": "LayoutView",
      "align_content": null,
      "align_items": null,
      "align_self": null,
      "border": null,
      "bottom": null,
      "display": null,
      "flex": null,
      "flex_flow": null,
      "grid_area": null,
      "grid_auto_columns": null,
      "grid_auto_flow": null,
      "grid_auto_rows": null,
      "grid_column": null,
      "grid_gap": null,
      "grid_row": null,
      "grid_template_areas": null,
      "grid_template_columns": null,
      "grid_template_rows": null,
      "height": null,
      "justify_content": null,
      "justify_items": null,
      "left": null,
      "margin": null,
      "max_height": null,
      "max_width": null,
      "min_height": null,
      "min_width": null,
      "object_fit": null,
      "object_position": null,
      "order": null,
      "overflow": null,
      "overflow_x": null,
      "overflow_y": null,
      "padding": null,
      "right": null,
      "top": null,
      "visibility": null,
      "width": null
     }
    },
    "b1ece3a041e841f5ad3f4addffc48773": {
     "model_module": "@jupyter-widgets/controls",
     "model_module_version": "1.5.0",
     "model_name": "DescriptionStyleModel",
     "state": {
      "_model_module": "@jupyter-widgets/controls",
      "_model_module_version": "1.5.0",
      "_model_name": "DescriptionStyleModel",
      "_view_count": null,
      "_view_module": "@jupyter-widgets/base",
      "_view_module_version": "1.2.0",
      "_view_name": "StyleView",
      "description_width": ""
     }
    },
    "b283524e8820485b8ce31c047651031a": {
     "model_module": "@jupyter-widgets/base",
     "model_module_version": "1.2.0",
     "model_name": "LayoutModel",
     "state": {
      "_model_module": "@jupyter-widgets/base",
      "_model_module_version": "1.2.0",
      "_model_name": "LayoutModel",
      "_view_count": null,
      "_view_module": "@jupyter-widgets/base",
      "_view_module_version": "1.2.0",
      "_view_name": "LayoutView",
      "align_content": null,
      "align_items": null,
      "align_self": null,
      "border": null,
      "bottom": null,
      "display": null,
      "flex": null,
      "flex_flow": null,
      "grid_area": null,
      "grid_auto_columns": null,
      "grid_auto_flow": null,
      "grid_auto_rows": null,
      "grid_column": null,
      "grid_gap": null,
      "grid_row": null,
      "grid_template_areas": null,
      "grid_template_columns": null,
      "grid_template_rows": null,
      "height": null,
      "justify_content": null,
      "justify_items": null,
      "left": null,
      "margin": null,
      "max_height": null,
      "max_width": null,
      "min_height": null,
      "min_width": null,
      "object_fit": null,
      "object_position": null,
      "order": null,
      "overflow": null,
      "overflow_x": null,
      "overflow_y": null,
      "padding": null,
      "right": null,
      "top": null,
      "visibility": null,
      "width": null
     }
    },
    "b3f3bf04c345492692805277de224bcc": {
     "model_module": "@jupyter-widgets/controls",
     "model_module_version": "1.5.0",
     "model_name": "DescriptionStyleModel",
     "state": {
      "_model_module": "@jupyter-widgets/controls",
      "_model_module_version": "1.5.0",
      "_model_name": "DescriptionStyleModel",
      "_view_count": null,
      "_view_module": "@jupyter-widgets/base",
      "_view_module_version": "1.2.0",
      "_view_name": "StyleView",
      "description_width": ""
     }
    },
    "b3f651062b05426a855851bd565a59f9": {
     "model_module": "@jupyter-widgets/base",
     "model_module_version": "1.2.0",
     "model_name": "LayoutModel",
     "state": {
      "_model_module": "@jupyter-widgets/base",
      "_model_module_version": "1.2.0",
      "_model_name": "LayoutModel",
      "_view_count": null,
      "_view_module": "@jupyter-widgets/base",
      "_view_module_version": "1.2.0",
      "_view_name": "LayoutView",
      "align_content": null,
      "align_items": null,
      "align_self": null,
      "border": null,
      "bottom": null,
      "display": null,
      "flex": null,
      "flex_flow": null,
      "grid_area": null,
      "grid_auto_columns": null,
      "grid_auto_flow": null,
      "grid_auto_rows": null,
      "grid_column": null,
      "grid_gap": null,
      "grid_row": null,
      "grid_template_areas": null,
      "grid_template_columns": null,
      "grid_template_rows": null,
      "height": null,
      "justify_content": null,
      "justify_items": null,
      "left": null,
      "margin": null,
      "max_height": null,
      "max_width": null,
      "min_height": null,
      "min_width": null,
      "object_fit": null,
      "object_position": null,
      "order": null,
      "overflow": null,
      "overflow_x": null,
      "overflow_y": null,
      "padding": null,
      "right": null,
      "top": null,
      "visibility": null,
      "width": null
     }
    },
    "bbe30637be50409795b005e1ad58bcb0": {
     "model_module": "@jupyter-widgets/controls",
     "model_module_version": "1.5.0",
     "model_name": "DescriptionStyleModel",
     "state": {
      "_model_module": "@jupyter-widgets/controls",
      "_model_module_version": "1.5.0",
      "_model_name": "DescriptionStyleModel",
      "_view_count": null,
      "_view_module": "@jupyter-widgets/base",
      "_view_module_version": "1.2.0",
      "_view_name": "StyleView",
      "description_width": ""
     }
    },
    "c109b5f90279460b9bf6b44d0588ac8e": {
     "model_module": "@jupyter-widgets/base",
     "model_module_version": "1.2.0",
     "model_name": "LayoutModel",
     "state": {
      "_model_module": "@jupyter-widgets/base",
      "_model_module_version": "1.2.0",
      "_model_name": "LayoutModel",
      "_view_count": null,
      "_view_module": "@jupyter-widgets/base",
      "_view_module_version": "1.2.0",
      "_view_name": "LayoutView",
      "align_content": null,
      "align_items": null,
      "align_self": null,
      "border": null,
      "bottom": null,
      "display": null,
      "flex": null,
      "flex_flow": null,
      "grid_area": null,
      "grid_auto_columns": null,
      "grid_auto_flow": null,
      "grid_auto_rows": null,
      "grid_column": null,
      "grid_gap": null,
      "grid_row": null,
      "grid_template_areas": null,
      "grid_template_columns": null,
      "grid_template_rows": null,
      "height": null,
      "justify_content": null,
      "justify_items": null,
      "left": null,
      "margin": null,
      "max_height": null,
      "max_width": null,
      "min_height": null,
      "min_width": null,
      "object_fit": null,
      "object_position": null,
      "order": null,
      "overflow": null,
      "overflow_x": null,
      "overflow_y": null,
      "padding": null,
      "right": null,
      "top": null,
      "visibility": null,
      "width": null
     }
    },
    "c305e505a6064007a68712bdfbc569a5": {
     "model_module": "@jupyter-widgets/base",
     "model_module_version": "1.2.0",
     "model_name": "LayoutModel",
     "state": {
      "_model_module": "@jupyter-widgets/base",
      "_model_module_version": "1.2.0",
      "_model_name": "LayoutModel",
      "_view_count": null,
      "_view_module": "@jupyter-widgets/base",
      "_view_module_version": "1.2.0",
      "_view_name": "LayoutView",
      "align_content": null,
      "align_items": null,
      "align_self": null,
      "border": null,
      "bottom": null,
      "display": null,
      "flex": null,
      "flex_flow": null,
      "grid_area": null,
      "grid_auto_columns": null,
      "grid_auto_flow": null,
      "grid_auto_rows": null,
      "grid_column": null,
      "grid_gap": null,
      "grid_row": null,
      "grid_template_areas": null,
      "grid_template_columns": null,
      "grid_template_rows": null,
      "height": null,
      "justify_content": null,
      "justify_items": null,
      "left": null,
      "margin": null,
      "max_height": null,
      "max_width": null,
      "min_height": null,
      "min_width": null,
      "object_fit": null,
      "object_position": null,
      "order": null,
      "overflow": null,
      "overflow_x": null,
      "overflow_y": null,
      "padding": null,
      "right": null,
      "top": null,
      "visibility": null,
      "width": null
     }
    },
    "c7eab0ad5aec429495f98433df3bb48b": {
     "model_module": "@jupyter-widgets/controls",
     "model_module_version": "1.5.0",
     "model_name": "ProgressStyleModel",
     "state": {
      "_model_module": "@jupyter-widgets/controls",
      "_model_module_version": "1.5.0",
      "_model_name": "ProgressStyleModel",
      "_view_count": null,
      "_view_module": "@jupyter-widgets/base",
      "_view_module_version": "1.2.0",
      "_view_name": "StyleView",
      "bar_color": null,
      "description_width": ""
     }
    },
    "ca1cbd0720eb4b589446f060a9609f9f": {
     "model_module": "@jupyter-widgets/controls",
     "model_module_version": "1.5.0",
     "model_name": "FloatProgressModel",
     "state": {
      "_dom_classes": [],
      "_model_module": "@jupyter-widgets/controls",
      "_model_module_version": "1.5.0",
      "_model_name": "FloatProgressModel",
      "_view_count": null,
      "_view_module": "@jupyter-widgets/controls",
      "_view_module_version": "1.5.0",
      "_view_name": "ProgressView",
      "bar_style": "success",
      "description": "",
      "description_tooltip": null,
      "layout": "IPY_MODEL_c305e505a6064007a68712bdfbc569a5",
      "max": 995526,
      "min": 0,
      "orientation": "horizontal",
      "style": "IPY_MODEL_ee632b823493495cbe5cba4eca9cfd0b",
      "value": 995526
     }
    },
    "cb82719bff224095bd4ca5e6a321db0a": {
     "model_module": "@jupyter-widgets/controls",
     "model_module_version": "1.5.0",
     "model_name": "FloatProgressModel",
     "state": {
      "_dom_classes": [],
      "_model_module": "@jupyter-widgets/controls",
      "_model_module_version": "1.5.0",
      "_model_name": "FloatProgressModel",
      "_view_count": null,
      "_view_module": "@jupyter-widgets/controls",
      "_view_module_version": "1.5.0",
      "_view_name": "ProgressView",
      "bar_style": "success",
      "description": "",
      "description_tooltip": null,
      "layout": "IPY_MODEL_a1b2aaf1b4c74bcfaf9574ae3ad5c2f3",
      "max": 49,
      "min": 0,
      "orientation": "horizontal",
      "style": "IPY_MODEL_0f2b96ed4db247f2b6bb452d0bab5682",
      "value": 49
     }
    },
    "cd57276b5280402c93e1f6851ae0d899": {
     "model_module": "@jupyter-widgets/base",
     "model_module_version": "1.2.0",
     "model_name": "LayoutModel",
     "state": {
      "_model_module": "@jupyter-widgets/base",
      "_model_module_version": "1.2.0",
      "_model_name": "LayoutModel",
      "_view_count": null,
      "_view_module": "@jupyter-widgets/base",
      "_view_module_version": "1.2.0",
      "_view_name": "LayoutView",
      "align_content": null,
      "align_items": null,
      "align_self": null,
      "border": null,
      "bottom": null,
      "display": null,
      "flex": null,
      "flex_flow": null,
      "grid_area": null,
      "grid_auto_columns": null,
      "grid_auto_flow": null,
      "grid_auto_rows": null,
      "grid_column": null,
      "grid_gap": null,
      "grid_row": null,
      "grid_template_areas": null,
      "grid_template_columns": null,
      "grid_template_rows": null,
      "height": null,
      "justify_content": null,
      "justify_items": null,
      "left": null,
      "margin": null,
      "max_height": null,
      "max_width": null,
      "min_height": null,
      "min_width": null,
      "object_fit": null,
      "object_position": null,
      "order": null,
      "overflow": null,
      "overflow_x": null,
      "overflow_y": null,
      "padding": null,
      "right": null,
      "top": null,
      "visibility": null,
      "width": null
     }
    },
    "cf3951bd540346ad93334d36ad032c12": {
     "model_module": "@jupyter-widgets/controls",
     "model_module_version": "1.5.0",
     "model_name": "HBoxModel",
     "state": {
      "_dom_classes": [],
      "_model_module": "@jupyter-widgets/controls",
      "_model_module_version": "1.5.0",
      "_model_name": "HBoxModel",
      "_view_count": null,
      "_view_module": "@jupyter-widgets/controls",
      "_view_module_version": "1.5.0",
      "_view_name": "HBoxView",
      "box_style": "",
      "children": [
       "IPY_MODEL_e3a0c25caf3d44e4b9aa6c14d09f1658",
       "IPY_MODEL_ca1cbd0720eb4b589446f060a9609f9f",
       "IPY_MODEL_55537c3ec54b44a89576820136cea01f"
      ],
      "layout": "IPY_MODEL_c109b5f90279460b9bf6b44d0588ac8e"
     }
    },
    "db98a13ee4ae446b9c9c845d6dc627c5": {
     "model_module": "@jupyter-widgets/base",
     "model_module_version": "1.2.0",
     "model_name": "LayoutModel",
     "state": {
      "_model_module": "@jupyter-widgets/base",
      "_model_module_version": "1.2.0",
      "_model_name": "LayoutModel",
      "_view_count": null,
      "_view_module": "@jupyter-widgets/base",
      "_view_module_version": "1.2.0",
      "_view_name": "LayoutView",
      "align_content": null,
      "align_items": null,
      "align_self": null,
      "border": null,
      "bottom": null,
      "display": null,
      "flex": null,
      "flex_flow": null,
      "grid_area": null,
      "grid_auto_columns": null,
      "grid_auto_flow": null,
      "grid_auto_rows": null,
      "grid_column": null,
      "grid_gap": null,
      "grid_row": null,
      "grid_template_areas": null,
      "grid_template_columns": null,
      "grid_template_rows": null,
      "height": null,
      "justify_content": null,
      "justify_items": null,
      "left": null,
      "margin": null,
      "max_height": null,
      "max_width": null,
      "min_height": null,
      "min_width": null,
      "object_fit": null,
      "object_position": null,
      "order": null,
      "overflow": null,
      "overflow_x": null,
      "overflow_y": null,
      "padding": null,
      "right": null,
      "top": null,
      "visibility": null,
      "width": null
     }
    },
    "df7a43f9f992499e9eef3e78d237db61": {
     "model_module": "@jupyter-widgets/controls",
     "model_module_version": "1.5.0",
     "model_name": "HBoxModel",
     "state": {
      "_dom_classes": [],
      "_model_module": "@jupyter-widgets/controls",
      "_model_module_version": "1.5.0",
      "_model_name": "HBoxModel",
      "_view_count": null,
      "_view_module": "@jupyter-widgets/controls",
      "_view_module_version": "1.5.0",
      "_view_name": "HBoxView",
      "box_style": "",
      "children": [
       "IPY_MODEL_7fb4cfd8f5ba4462b6a147957ea59587",
       "IPY_MODEL_953b577e24d94f5d9be6f8017050adc5",
       "IPY_MODEL_fc4777dc458744108e0948c9497e3dd3"
      ],
      "layout": "IPY_MODEL_ed1425d5a49745f9844c29f99c2829ec"
     }
    },
    "e3a0c25caf3d44e4b9aa6c14d09f1658": {
     "model_module": "@jupyter-widgets/controls",
     "model_module_version": "1.5.0",
     "model_name": "HTMLModel",
     "state": {
      "_dom_classes": [],
      "_model_module": "@jupyter-widgets/controls",
      "_model_module_version": "1.5.0",
      "_model_name": "HTMLModel",
      "_view_count": null,
      "_view_module": "@jupyter-widgets/controls",
      "_view_module_version": "1.5.0",
      "_view_name": "HTMLView",
      "description": "",
      "description_tooltip": null,
      "layout": "IPY_MODEL_45edb8fc16d34dfca96944e6c80251bd",
      "placeholder": "​",
      "style": "IPY_MODEL_bbe30637be50409795b005e1ad58bcb0",
      "value": "vocab.txt: 100%"
     }
    },
    "e833caa3f1824b25b2f45ff8aa24fae2": {
     "model_module": "@jupyter-widgets/base",
     "model_module_version": "1.2.0",
     "model_name": "LayoutModel",
     "state": {
      "_model_module": "@jupyter-widgets/base",
      "_model_module_version": "1.2.0",
      "_model_name": "LayoutModel",
      "_view_count": null,
      "_view_module": "@jupyter-widgets/base",
      "_view_module_version": "1.2.0",
      "_view_name": "LayoutView",
      "align_content": null,
      "align_items": null,
      "align_self": null,
      "border": null,
      "bottom": null,
      "display": null,
      "flex": null,
      "flex_flow": null,
      "grid_area": null,
      "grid_auto_columns": null,
      "grid_auto_flow": null,
      "grid_auto_rows": null,
      "grid_column": null,
      "grid_gap": null,
      "grid_row": null,
      "grid_template_areas": null,
      "grid_template_columns": null,
      "grid_template_rows": null,
      "height": null,
      "justify_content": null,
      "justify_items": null,
      "left": null,
      "margin": null,
      "max_height": null,
      "max_width": null,
      "min_height": null,
      "min_width": null,
      "object_fit": null,
      "object_position": null,
      "order": null,
      "overflow": null,
      "overflow_x": null,
      "overflow_y": null,
      "padding": null,
      "right": null,
      "top": null,
      "visibility": null,
      "width": null
     }
    },
    "ed1425d5a49745f9844c29f99c2829ec": {
     "model_module": "@jupyter-widgets/base",
     "model_module_version": "1.2.0",
     "model_name": "LayoutModel",
     "state": {
      "_model_module": "@jupyter-widgets/base",
      "_model_module_version": "1.2.0",
      "_model_name": "LayoutModel",
      "_view_count": null,
      "_view_module": "@jupyter-widgets/base",
      "_view_module_version": "1.2.0",
      "_view_name": "LayoutView",
      "align_content": null,
      "align_items": null,
      "align_self": null,
      "border": null,
      "bottom": null,
      "display": null,
      "flex": null,
      "flex_flow": null,
      "grid_area": null,
      "grid_auto_columns": null,
      "grid_auto_flow": null,
      "grid_auto_rows": null,
      "grid_column": null,
      "grid_gap": null,
      "grid_row": null,
      "grid_template_areas": null,
      "grid_template_columns": null,
      "grid_template_rows": null,
      "height": null,
      "justify_content": null,
      "justify_items": null,
      "left": null,
      "margin": null,
      "max_height": null,
      "max_width": null,
      "min_height": null,
      "min_width": null,
      "object_fit": null,
      "object_position": null,
      "order": null,
      "overflow": null,
      "overflow_x": null,
      "overflow_y": null,
      "padding": null,
      "right": null,
      "top": null,
      "visibility": null,
      "width": null
     }
    },
    "ee632b823493495cbe5cba4eca9cfd0b": {
     "model_module": "@jupyter-widgets/controls",
     "model_module_version": "1.5.0",
     "model_name": "ProgressStyleModel",
     "state": {
      "_model_module": "@jupyter-widgets/controls",
      "_model_module_version": "1.5.0",
      "_model_name": "ProgressStyleModel",
      "_view_count": null,
      "_view_module": "@jupyter-widgets/base",
      "_view_module_version": "1.2.0",
      "_view_name": "StyleView",
      "bar_color": null,
      "description_width": ""
     }
    },
    "f0efcf24ce3b4e4f8686c79c36262ebc": {
     "model_module": "@jupyter-widgets/controls",
     "model_module_version": "1.5.0",
     "model_name": "HTMLModel",
     "state": {
      "_dom_classes": [],
      "_model_module": "@jupyter-widgets/controls",
      "_model_module_version": "1.5.0",
      "_model_name": "HTMLModel",
      "_view_count": null,
      "_view_module": "@jupyter-widgets/controls",
      "_view_module_version": "1.5.0",
      "_view_name": "HTMLView",
      "description": "",
      "description_tooltip": null,
      "layout": "IPY_MODEL_5d649af8175140c5a539d65810361531",
      "placeholder": "​",
      "style": "IPY_MODEL_3b58df472666417dbca4c3ea77fb003e",
      "value": "config.json: 100%"
     }
    },
    "fbe20e99eaee4ad5ae131d6e5fb1aae3": {
     "model_module": "@jupyter-widgets/controls",
     "model_module_version": "1.5.0",
     "model_name": "DescriptionStyleModel",
     "state": {
      "_model_module": "@jupyter-widgets/controls",
      "_model_module_version": "1.5.0",
      "_model_name": "DescriptionStyleModel",
      "_view_count": null,
      "_view_module": "@jupyter-widgets/base",
      "_view_module_version": "1.2.0",
      "_view_name": "StyleView",
      "description_width": ""
     }
    },
    "fc4777dc458744108e0948c9497e3dd3": {
     "model_module": "@jupyter-widgets/controls",
     "model_module_version": "1.5.0",
     "model_name": "HTMLModel",
     "state": {
      "_dom_classes": [],
      "_model_module": "@jupyter-widgets/controls",
      "_model_module_version": "1.5.0",
      "_model_name": "HTMLModel",
      "_view_count": null,
      "_view_module": "@jupyter-widgets/controls",
      "_view_module_version": "1.5.0",
      "_view_name": "HTMLView",
      "description": "",
      "description_tooltip": null,
      "layout": "IPY_MODEL_89207e54b98940b09d65b24f0635ff22",
      "placeholder": "​",
      "style": "IPY_MODEL_b3f3bf04c345492692805277de224bcc",
      "value": " 1.96M/1.96M [00:00&lt;00:00, 15.9MB/s]"
     }
    }
   }
  }
 },
 "nbformat": 4,
 "nbformat_minor": 0
}
